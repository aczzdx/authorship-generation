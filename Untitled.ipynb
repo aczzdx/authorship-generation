{
 "cells": [
  {
   "cell_type": "markdown",
   "metadata": {},
   "source": [
    "# Import"
   ]
  },
  {
   "cell_type": "code",
   "execution_count": 1,
   "metadata": {},
   "outputs": [],
   "source": [
    "import pandas as pd"
   ]
  },
  {
   "cell_type": "code",
   "execution_count": 75,
   "metadata": {},
   "outputs": [],
   "source": [
    "import numpy as np"
   ]
  },
  {
   "cell_type": "code",
   "execution_count": 2,
   "metadata": {},
   "outputs": [],
   "source": [
    "df = pd.read_csv(\"authors.csv\")"
   ]
  },
  {
   "cell_type": "code",
   "execution_count": 73,
   "metadata": {},
   "outputs": [],
   "source": [
    "df['First Name'] = df['First Name'].apply(lambda name: name.strip())"
   ]
  },
  {
   "cell_type": "code",
   "execution_count": null,
   "metadata": {},
   "outputs": [],
   "source": [
    "df['Last Name'] "
   ]
  },
  {
   "cell_type": "code",
   "execution_count": 76,
   "metadata": {},
   "outputs": [],
   "source": [
    "name = np.nan"
   ]
  },
  {
   "cell_type": "code",
   "execution_count": 78,
   "metadata": {},
   "outputs": [],
   "source": [
    "if pd.isnull(name):\n",
    "    pass\n",
    "else:\n",
    "    name = name.strip()"
   ]
  },
  {
   "cell_type": "code",
   "execution_count": 79,
   "metadata": {},
   "outputs": [],
   "source": [
    "for tag in ['First Name', 'Middle Initial(s)', 'Last Name']:\n",
    "    df[tag] = df[tag].apply(lambda name: name.strip() if not pd.isnull(name) else name )"
   ]
  },
  {
   "cell_type": "markdown",
   "metadata": {},
   "source": [
    "# Data Cleaning"
   ]
  },
  {
   "cell_type": "markdown",
   "metadata": {},
   "source": [
    "# Transformation"
   ]
  },
  {
   "cell_type": "code",
   "execution_count": 10,
   "metadata": {},
   "outputs": [],
   "source": [
    "row = df.iloc[0, :]"
   ]
  },
  {
   "cell_type": "code",
   "execution_count": 11,
   "metadata": {},
   "outputs": [
    {
     "data": {
      "text/plain": [
       "'Lauren'"
      ]
     },
     "execution_count": 11,
     "metadata": {},
     "output_type": "execute_result"
    }
   ],
   "source": [
    "row['First Name']"
   ]
  },
  {
   "cell_type": "code",
   "execution_count": 12,
   "metadata": {},
   "outputs": [
    {
     "data": {
      "text/plain": [
       "'E'"
      ]
     },
     "execution_count": 12,
     "metadata": {},
     "output_type": "execute_result"
    }
   ],
   "source": [
    "row['Middle Initial(s)']"
   ]
  },
  {
   "cell_type": "code",
   "execution_count": 13,
   "metadata": {},
   "outputs": [
    {
     "data": {
      "text/plain": [
       "'Salminen'"
      ]
     },
     "execution_count": 13,
     "metadata": {},
     "output_type": "execute_result"
    }
   ],
   "source": [
    "row['Last Name']"
   ]
  },
  {
   "cell_type": "code",
   "execution_count": 15,
   "metadata": {},
   "outputs": [
    {
     "data": {
      "text/plain": [
       "'L.E.S.'"
      ]
     },
     "execution_count": 15,
     "metadata": {},
     "output_type": "execute_result"
    }
   ],
   "source": [
    "row['First Name'][0] + '.' + row['Middle Initial(s)'] + '.' + row['Last Name'][0] + '.'"
   ]
  },
  {
   "cell_type": "code",
   "execution_count": 18,
   "metadata": {},
   "outputs": [
    {
     "name": "stdout",
     "output_type": "stream",
     "text": [
      "import pandas as pd\n",
      "df = pd.read_csv(\"authors.csv\")\n",
      "row = df.iloc[0, :]\n",
      "row['First Name'][0] + '.' + row['Middle Initial(s)'] + '.' + row['Last Name'][0] + '.'\n"
     ]
    }
   ],
   "source": [
    "%history 1 2 10 15"
   ]
  },
  {
   "cell_type": "code",
   "execution_count": 22,
   "metadata": {},
   "outputs": [],
   "source": [
    "row = df.iloc[3, :]"
   ]
  },
  {
   "cell_type": "code",
   "execution_count": null,
   "metadata": {},
   "outputs": [],
   "source": []
  },
  {
   "cell_type": "code",
   "execution_count": 28,
   "metadata": {},
   "outputs": [
    {
     "data": {
      "text/plain": [
       "True"
      ]
     },
     "execution_count": 28,
     "metadata": {},
     "output_type": "execute_result"
    }
   ],
   "source": [
    "pd.isnull(row['Middle Initial(s)'])"
   ]
  },
  {
   "cell_type": "code",
   "execution_count": 58,
   "metadata": {},
   "outputs": [],
   "source": [
    "def get_last_name_inital(last_name):\n",
    "    \n",
    "    l2 = [word.split('-') for word in last_name.split(' ')]    \n",
    "    return ''.join(['-'.join([name[0] for name in l]) for l in l2])\n",
    "    "
   ]
  },
  {
   "cell_type": "code",
   "execution_count": 59,
   "metadata": {},
   "outputs": [
    {
     "data": {
      "text/plain": [
       "'AB-C'"
      ]
     },
     "execution_count": 59,
     "metadata": {},
     "output_type": "execute_result"
    }
   ],
   "source": [
    "get_last_name_inital(\"AAA BBB-CCC\")"
   ]
  },
  {
   "cell_type": "code",
   "execution_count": 61,
   "metadata": {},
   "outputs": [
    {
     "data": {
      "text/plain": [
       "'dvA'"
      ]
     },
     "execution_count": 61,
     "metadata": {},
     "output_type": "execute_result"
    }
   ],
   "source": [
    "get_last_name_inital(\"der van AAA\")"
   ]
  },
  {
   "cell_type": "code",
   "execution_count": 62,
   "metadata": {},
   "outputs": [
    {
     "data": {
      "text/plain": [
       "'A'"
      ]
     },
     "execution_count": 62,
     "metadata": {},
     "output_type": "execute_result"
    }
   ],
   "source": [
    "get_last_name_inital(\"AAA\")"
   ]
  },
  {
   "cell_type": "code",
   "execution_count": 63,
   "metadata": {},
   "outputs": [],
   "source": [
    "def get_initial(row):\n",
    "    \n",
    "    ret = row['First Name'][0] + '.' \n",
    "    if not pd.isnull(row['Middle Initial(s)']):\n",
    "        ret += row['Middle Initial(s)'] + '.';\n",
    "\n",
    "    ret += get_last_name_inital(row['Last Name'])  + '.'\n",
    "    \n",
    "    return ret"
   ]
  },
  {
   "cell_type": "code",
   "execution_count": 43,
   "metadata": {},
   "outputs": [],
   "source": [
    "last_name = \"AAA BBB-CCC\""
   ]
  },
  {
   "cell_type": "code",
   "execution_count": 48,
   "metadata": {},
   "outputs": [],
   "source": [
    "l2 = [word.split('-') for word in last_name.split(' ')]"
   ]
  },
  {
   "cell_type": "code",
   "execution_count": 49,
   "metadata": {},
   "outputs": [
    {
     "data": {
      "text/plain": [
       "[['AAA'], ['BBB', 'CCC']]"
      ]
     },
     "execution_count": 49,
     "metadata": {},
     "output_type": "execute_result"
    }
   ],
   "source": [
    "l2"
   ]
  },
  {
   "cell_type": "code",
   "execution_count": 51,
   "metadata": {},
   "outputs": [],
   "source": [
    "l = ['BBB', 'CCC']"
   ]
  },
  {
   "cell_type": "code",
   "execution_count": 55,
   "metadata": {},
   "outputs": [
    {
     "data": {
      "text/plain": [
       "'AB-C'"
      ]
     },
     "execution_count": 55,
     "metadata": {},
     "output_type": "execute_result"
    }
   ],
   "source": [
    "''.join(['-'.join([name[0] for name in l]) for l in l2])"
   ]
  },
  {
   "cell_type": "code",
   "execution_count": 45,
   "metadata": {},
   "outputs": [
    {
     "data": {
      "text/plain": [
       "['BBB', 'CCC']"
      ]
     },
     "execution_count": 45,
     "metadata": {},
     "output_type": "execute_result"
    }
   ],
   "source": [
    "'BBB-CCC'.split('-')"
   ]
  },
  {
   "cell_type": "code",
   "execution_count": null,
   "metadata": {},
   "outputs": [],
   "source": [
    "row['Last Name'].split(' ')"
   ]
  },
  {
   "cell_type": "code",
   "execution_count": 80,
   "metadata": {},
   "outputs": [
    {
     "data": {
      "text/plain": [
       "0        L.E.S.\n",
       "1        E.L.D.\n",
       "2        T.M.N.\n",
       "3          P.K.\n",
       "4      A.R.B-S.\n",
       "5       C.R..M.\n",
       "6        O.A.A.\n",
       "7          M.Z.\n",
       "8          M.T.\n",
       "9       M.E..R.\n",
       "10         G.M.\n",
       "11         X.K.\n",
       "12      J.K..B.\n",
       "13        D.vR.\n",
       "14         M.H.\n",
       "15       S.M.S.\n",
       "16      N.A..G.\n",
       "17     N.EM.vH.\n",
       "18       S.C.M.\n",
       "19         I.A.\n",
       "20         M.A.\n",
       "21         d.p.\n",
       "22       I.H.H.\n",
       "23      R.A..M.\n",
       "24      S.E..F.\n",
       "25         S.E.\n",
       "26         G.F.\n",
       "27       H.P.G.\n",
       "28         S.L.\n",
       "29      C.AM.C.\n",
       "         ...   \n",
       "144        A.A.\n",
       "145        R.B.\n",
       "146      K.L.G.\n",
       "147        L.S.\n",
       "148        J.K.\n",
       "149        J.O.\n",
       "150     L.KM.H.\n",
       "151        F.P.\n",
       "152        f.p.\n",
       "153        K.H.\n",
       "154        K.W.\n",
       "155        H.V.\n",
       "156      P.G.S.\n",
       "157        D.D.\n",
       "158     E.A..W.\n",
       "159        E.P.\n",
       "160        T.J.\n",
       "161      J.D.R.\n",
       "162      R.A.C.\n",
       "163        G.H.\n",
       "164        H.W.\n",
       "165        G.Z.\n",
       "166        T.H.\n",
       "167        G.K.\n",
       "168      L.N-B.\n",
       "169        M.K.\n",
       "170      I.K.K.\n",
       "171     M.A..L.\n",
       "172        G.H.\n",
       "173      D.A.B.\n",
       "Length: 174, dtype: object"
      ]
     },
     "execution_count": 80,
     "metadata": {},
     "output_type": "execute_result"
    }
   ],
   "source": [
    "df.apply(\n",
    "    get_initial,\n",
    "    axis=1\n",
    ")"
   ]
  },
  {
   "cell_type": "code",
   "execution_count": 89,
   "metadata": {},
   "outputs": [],
   "source": [
    "authors_emails = pd.concat([df['Email Address'],df.apply(\n",
    "    get_initial,\n",
    "    axis=1\n",
    ") ], axis=1)"
   ]
  },
  {
   "cell_type": "code",
   "execution_count": 94,
   "metadata": {},
   "outputs": [
    {
     "data": {
      "text/html": [
       "<div>\n",
       "<style scoped>\n",
       "    .dataframe tbody tr th:only-of-type {\n",
       "        vertical-align: middle;\n",
       "    }\n",
       "\n",
       "    .dataframe tbody tr th {\n",
       "        vertical-align: top;\n",
       "    }\n",
       "\n",
       "    .dataframe thead th {\n",
       "        text-align: right;\n",
       "    }\n",
       "</style>\n",
       "<table border=\"1\" class=\"dataframe\">\n",
       "  <thead>\n",
       "    <tr style=\"text-align: right;\">\n",
       "      <th></th>\n",
       "      <th>Email Address</th>\n",
       "      <th>0</th>\n",
       "    </tr>\n",
       "  </thead>\n",
       "  <tbody>\n",
       "    <tr>\n",
       "      <th>count</th>\n",
       "      <td>174</td>\n",
       "      <td>174</td>\n",
       "    </tr>\n",
       "    <tr>\n",
       "      <th>unique</th>\n",
       "      <td>169</td>\n",
       "      <td>165</td>\n",
       "    </tr>\n",
       "    <tr>\n",
       "      <th>top</th>\n",
       "      <td>iliyani@yahoo.com</td>\n",
       "      <td>T.H.</td>\n",
       "    </tr>\n",
       "    <tr>\n",
       "      <th>freq</th>\n",
       "      <td>2</td>\n",
       "      <td>3</td>\n",
       "    </tr>\n",
       "  </tbody>\n",
       "</table>\n",
       "</div>"
      ],
      "text/plain": [
       "            Email Address     0\n",
       "count                 174   174\n",
       "unique                169   165\n",
       "top     iliyani@yahoo.com  T.H.\n",
       "freq                    2     3"
      ]
     },
     "execution_count": 94,
     "metadata": {},
     "output_type": "execute_result"
    }
   ],
   "source": [
    "authors_emails.describe()"
   ]
  },
  {
   "cell_type": "code",
   "execution_count": 91,
   "metadata": {},
   "outputs": [
    {
     "data": {
      "text/html": [
       "<div>\n",
       "<style scoped>\n",
       "    .dataframe tbody tr th:only-of-type {\n",
       "        vertical-align: middle;\n",
       "    }\n",
       "\n",
       "    .dataframe tbody tr th {\n",
       "        vertical-align: top;\n",
       "    }\n",
       "\n",
       "    .dataframe thead th {\n",
       "        text-align: right;\n",
       "    }\n",
       "</style>\n",
       "<table border=\"1\" class=\"dataframe\">\n",
       "  <thead>\n",
       "    <tr style=\"text-align: right;\">\n",
       "      <th></th>\n",
       "      <th>Email Address</th>\n",
       "      <th>0</th>\n",
       "    </tr>\n",
       "  </thead>\n",
       "  <tbody>\n",
       "    <tr>\n",
       "      <th>75</th>\n",
       "      <td>Fabrizio.Pizzagalli@ini.usc.edu</td>\n",
       "      <td>F.P.</td>\n",
       "    </tr>\n",
       "    <tr>\n",
       "      <th>59</th>\n",
       "      <td>HahnT@wwu.de</td>\n",
       "      <td>T.H.</td>\n",
       "    </tr>\n",
       "    <tr>\n",
       "      <th>166</th>\n",
       "      <td>Hahnt@wwu.de</td>\n",
       "      <td>T.H.</td>\n",
       "    </tr>\n",
       "    <tr>\n",
       "      <th>164</th>\n",
       "      <td>Henrik.Walter@charite.de</td>\n",
       "      <td>H.W.</td>\n",
       "    </tr>\n",
       "    <tr>\n",
       "      <th>12</th>\n",
       "      <td>Jan.Buitelaar@radboudumc.nl</td>\n",
       "      <td>J.K..B.</td>\n",
       "    </tr>\n",
       "    <tr>\n",
       "      <th>95</th>\n",
       "      <td>Janita.Bralten@radboudumc.nl</td>\n",
       "      <td>J.B.</td>\n",
       "    </tr>\n",
       "    <tr>\n",
       "      <th>57</th>\n",
       "      <td>Karen.Caeyenberghs@acu.edu.au</td>\n",
       "      <td>K.C.</td>\n",
       "    </tr>\n",
       "    <tr>\n",
       "      <th>111</th>\n",
       "      <td>MARYAGNESMCMAHON@GMAIL.COM</td>\n",
       "      <td>A.B..M.</td>\n",
       "    </tr>\n",
       "    <tr>\n",
       "      <th>143</th>\n",
       "      <td>Mark.Shiroishi@med.usc.edu</td>\n",
       "      <td>M.S..S.</td>\n",
       "    </tr>\n",
       "    <tr>\n",
       "      <th>14</th>\n",
       "      <td>Martine.hoogman@radboudumc.nl</td>\n",
       "      <td>M.H.</td>\n",
       "    </tr>\n",
       "    <tr>\n",
       "      <th>144</th>\n",
       "      <td>a.aleman@umcg.nl</td>\n",
       "      <td>A.A.</td>\n",
       "    </tr>\n",
       "    <tr>\n",
       "      <th>62</th>\n",
       "      <td>a.altmann@ucl.ac.uk</td>\n",
       "      <td>A.A.</td>\n",
       "    </tr>\n",
       "    <tr>\n",
       "      <th>45</th>\n",
       "      <td>alexander.olsen@ntnu.no</td>\n",
       "      <td>A.O.</td>\n",
       "    </tr>\n",
       "    <tr>\n",
       "      <th>39</th>\n",
       "      <td>amayer@mrn.org</td>\n",
       "      <td>A.R..M.</td>\n",
       "    </tr>\n",
       "    <tr>\n",
       "      <th>138</th>\n",
       "      <td>anderson.winkler@nih.gov</td>\n",
       "      <td>A.M..W.</td>\n",
       "    </tr>\n",
       "    <tr>\n",
       "      <th>54</th>\n",
       "      <td>aplin@bwh.harvard.edu</td>\n",
       "      <td>A.P.L.</td>\n",
       "    </tr>\n",
       "    <tr>\n",
       "      <th>4</th>\n",
       "      <td>arielle.baskin-sommers@yale.edu</td>\n",
       "      <td>A.R.B-S.</td>\n",
       "    </tr>\n",
       "    <tr>\n",
       "      <th>141</th>\n",
       "      <td>ateumer@uni-greifswald.de</td>\n",
       "      <td>A.T.</td>\n",
       "    </tr>\n",
       "    <tr>\n",
       "      <th>83</th>\n",
       "      <td>atilot@loni.usc.edu</td>\n",
       "      <td>A.K.T.</td>\n",
       "    </tr>\n",
       "    <tr>\n",
       "      <th>68</th>\n",
       "      <td>barbara.franke@radboudumc.nl</td>\n",
       "      <td>B.F.</td>\n",
       "    </tr>\n",
       "    <tr>\n",
       "      <th>53</th>\n",
       "      <td>bbartnik@llu.edu</td>\n",
       "      <td>B.L.B-O.</td>\n",
       "    </tr>\n",
       "    <tr>\n",
       "      <th>130</th>\n",
       "      <td>bernhard.baune@ukmuenster.de</td>\n",
       "      <td>B.Theodor.B.</td>\n",
       "    </tr>\n",
       "    <tr>\n",
       "      <th>119</th>\n",
       "      <td>bgutman1@iit.edu</td>\n",
       "      <td>B.A.G.</td>\n",
       "    </tr>\n",
       "    <tr>\n",
       "      <th>52</th>\n",
       "      <td>bhimdhkr@gmail.com</td>\n",
       "      <td>B.M..A.</td>\n",
       "    </tr>\n",
       "    <tr>\n",
       "      <th>145</th>\n",
       "      <td>buelowr@uni-greifswald.de</td>\n",
       "      <td>R.B.</td>\n",
       "    </tr>\n",
       "    <tr>\n",
       "      <th>29</th>\n",
       "      <td>c.cecil@erasmusmc.nl</td>\n",
       "      <td>C.AM.C.</td>\n",
       "    </tr>\n",
       "    <tr>\n",
       "      <th>5</th>\n",
       "      <td>camcdonald@ucsd.edu</td>\n",
       "      <td>C.R..M.</td>\n",
       "    </tr>\n",
       "    <tr>\n",
       "      <th>71</th>\n",
       "      <td>carolien.dekovel@wur.nl</td>\n",
       "      <td>C.G.F..dK.</td>\n",
       "    </tr>\n",
       "    <tr>\n",
       "      <th>40</th>\n",
       "      <td>carrie.esopenko@rutgers.edu</td>\n",
       "      <td>C.E.</td>\n",
       "    </tr>\n",
       "    <tr>\n",
       "      <th>30</th>\n",
       "      <td>cbearden@mednet.ucla.edu</td>\n",
       "      <td>C.E.B.</td>\n",
       "    </tr>\n",
       "    <tr>\n",
       "      <th>...</th>\n",
       "      <td>...</td>\n",
       "      <td>...</td>\n",
       "    </tr>\n",
       "    <tr>\n",
       "      <th>156</th>\n",
       "      <td>saemann@psych.mpg.de</td>\n",
       "      <td>P.G.S.</td>\n",
       "    </tr>\n",
       "    <tr>\n",
       "      <th>132</th>\n",
       "      <td>sara.bertolin@bellvitgehospital.cat</td>\n",
       "      <td>S.B.</td>\n",
       "    </tr>\n",
       "    <tr>\n",
       "      <th>90</th>\n",
       "      <td>sarahMe@qimr.edu.au</td>\n",
       "      <td>S.E.M.</td>\n",
       "    </tr>\n",
       "    <tr>\n",
       "      <th>105</th>\n",
       "      <td>sehatton@ucsd.edu</td>\n",
       "      <td>S.N.H.</td>\n",
       "    </tr>\n",
       "    <tr>\n",
       "      <th>109</th>\n",
       "      <td>sfaraone@childpsychresearch.org</td>\n",
       "      <td>S.V.F.</td>\n",
       "    </tr>\n",
       "    <tr>\n",
       "      <th>106</th>\n",
       "      <td>shatokhi@usc.edu</td>\n",
       "      <td>N.S.</td>\n",
       "    </tr>\n",
       "    <tr>\n",
       "      <th>24</th>\n",
       "      <td>simon.fisher@mpi.nl</td>\n",
       "      <td>S.E..F.</td>\n",
       "    </tr>\n",
       "    <tr>\n",
       "      <th>28</th>\n",
       "      <td>sliew@usc.edu</td>\n",
       "      <td>S.L.</td>\n",
       "    </tr>\n",
       "    <tr>\n",
       "      <th>55</th>\n",
       "      <td>sophia.frangou@mssm.edu</td>\n",
       "      <td>S.F.</td>\n",
       "    </tr>\n",
       "    <tr>\n",
       "      <th>25</th>\n",
       "      <td>stefan.ehrlich@tu-dresden.de</td>\n",
       "      <td>S.E.</td>\n",
       "    </tr>\n",
       "    <tr>\n",
       "      <th>56</th>\n",
       "      <td>sthomopo@usc.edu</td>\n",
       "      <td>S.I.T.</td>\n",
       "    </tr>\n",
       "    <tr>\n",
       "      <th>125</th>\n",
       "      <td>sundaqiang@gmail.com</td>\n",
       "      <td>D.S.</td>\n",
       "    </tr>\n",
       "    <tr>\n",
       "      <th>18</th>\n",
       "      <td>sven.mueller@ugent.be</td>\n",
       "      <td>S.C.M.</td>\n",
       "    </tr>\n",
       "    <tr>\n",
       "      <th>64</th>\n",
       "      <td>sylvane.desrivieres@kcl.ac.uk</td>\n",
       "      <td>S.D.</td>\n",
       "    </tr>\n",
       "    <tr>\n",
       "      <th>46</th>\n",
       "      <td>t.p.gurholt@medisin.uio.no</td>\n",
       "      <td>T.P.G.</td>\n",
       "    </tr>\n",
       "    <tr>\n",
       "      <th>79</th>\n",
       "      <td>thomas.frodl@med.ovgu.de</td>\n",
       "      <td>T.F.</td>\n",
       "    </tr>\n",
       "    <tr>\n",
       "      <th>160</th>\n",
       "      <td>tianyejia@fudan.edu.cn</td>\n",
       "      <td>T.J.</td>\n",
       "    </tr>\n",
       "    <tr>\n",
       "      <th>82</th>\n",
       "      <td>tiffnie@stanford.edu</td>\n",
       "      <td>T.C.H.</td>\n",
       "    </tr>\n",
       "    <tr>\n",
       "      <th>2</th>\n",
       "      <td>tnir@usc.edu</td>\n",
       "      <td>T.M.N.</td>\n",
       "    </tr>\n",
       "    <tr>\n",
       "      <th>76</th>\n",
       "      <td>tomas.hajek@dal.ca</td>\n",
       "      <td>T.H.</td>\n",
       "    </tr>\n",
       "    <tr>\n",
       "      <th>34</th>\n",
       "      <td>tvanerp@uci.edu</td>\n",
       "      <td>T.G.M..vE.</td>\n",
       "    </tr>\n",
       "    <tr>\n",
       "      <th>94</th>\n",
       "      <td>ulrike.lueken@hu-berlin.de</td>\n",
       "      <td>U.L.</td>\n",
       "    </tr>\n",
       "    <tr>\n",
       "      <th>155</th>\n",
       "      <td>voelzke@uni-greifswald.de</td>\n",
       "      <td>H.V.</td>\n",
       "    </tr>\n",
       "    <tr>\n",
       "      <th>140</th>\n",
       "      <td>vzelman@usc.edu</td>\n",
       "      <td>V.Z.</td>\n",
       "    </tr>\n",
       "    <tr>\n",
       "      <th>74</th>\n",
       "      <td>waltonesther@gmail.com</td>\n",
       "      <td>E.W.</td>\n",
       "    </tr>\n",
       "    <tr>\n",
       "      <th>121</th>\n",
       "      <td>willembenjamin@gmail.com</td>\n",
       "      <td>W.B.B.</td>\n",
       "    </tr>\n",
       "    <tr>\n",
       "      <th>11</th>\n",
       "      <td>xiangzhen.kong@outlook.com</td>\n",
       "      <td>X.K.</td>\n",
       "    </tr>\n",
       "    <tr>\n",
       "      <th>86</th>\n",
       "      <td>yannying.chye@monash.edu</td>\n",
       "      <td>Y.C.</td>\n",
       "    </tr>\n",
       "    <tr>\n",
       "      <th>38</th>\n",
       "      <td>yd.vanderwerf@vumc.nl</td>\n",
       "      <td>Y.D..vdW.</td>\n",
       "    </tr>\n",
       "    <tr>\n",
       "      <th>81</th>\n",
       "      <td>zhangy@upstate.edu</td>\n",
       "      <td>Y.Z-J.</td>\n",
       "    </tr>\n",
       "  </tbody>\n",
       "</table>\n",
       "<p>174 rows × 2 columns</p>\n",
       "</div>"
      ],
      "text/plain": [
       "                           Email Address             0\n",
       "75       Fabrizio.Pizzagalli@ini.usc.edu          F.P.\n",
       "59                          HahnT@wwu.de          T.H.\n",
       "166                         Hahnt@wwu.de          T.H.\n",
       "164             Henrik.Walter@charite.de          H.W.\n",
       "12           Jan.Buitelaar@radboudumc.nl       J.K..B.\n",
       "95          Janita.Bralten@radboudumc.nl          J.B.\n",
       "57         Karen.Caeyenberghs@acu.edu.au          K.C.\n",
       "111           MARYAGNESMCMAHON@GMAIL.COM       A.B..M.\n",
       "143           Mark.Shiroishi@med.usc.edu       M.S..S.\n",
       "14         Martine.hoogman@radboudumc.nl          M.H.\n",
       "144                     a.aleman@umcg.nl          A.A.\n",
       "62                   a.altmann@ucl.ac.uk          A.A.\n",
       "45               alexander.olsen@ntnu.no          A.O.\n",
       "39                        amayer@mrn.org       A.R..M.\n",
       "138             anderson.winkler@nih.gov       A.M..W.\n",
       "54                 aplin@bwh.harvard.edu        A.P.L.\n",
       "4        arielle.baskin-sommers@yale.edu      A.R.B-S.\n",
       "141            ateumer@uni-greifswald.de          A.T.\n",
       "83                   atilot@loni.usc.edu        A.K.T.\n",
       "68          barbara.franke@radboudumc.nl          B.F.\n",
       "53                      bbartnik@llu.edu      B.L.B-O.\n",
       "130         bernhard.baune@ukmuenster.de  B.Theodor.B.\n",
       "119                     bgutman1@iit.edu        B.A.G.\n",
       "52                    bhimdhkr@gmail.com       B.M..A.\n",
       "145            buelowr@uni-greifswald.de          R.B.\n",
       "29                  c.cecil@erasmusmc.nl       C.AM.C.\n",
       "5                    camcdonald@ucsd.edu       C.R..M.\n",
       "71               carolien.dekovel@wur.nl    C.G.F..dK.\n",
       "40           carrie.esopenko@rutgers.edu          C.E.\n",
       "30              cbearden@mednet.ucla.edu        C.E.B.\n",
       "..                                   ...           ...\n",
       "156                 saemann@psych.mpg.de        P.G.S.\n",
       "132  sara.bertolin@bellvitgehospital.cat          S.B.\n",
       "90                   sarahMe@qimr.edu.au        S.E.M.\n",
       "105                    sehatton@ucsd.edu        S.N.H.\n",
       "109      sfaraone@childpsychresearch.org        S.V.F.\n",
       "106                     shatokhi@usc.edu          N.S.\n",
       "24                   simon.fisher@mpi.nl       S.E..F.\n",
       "28                         sliew@usc.edu          S.L.\n",
       "55               sophia.frangou@mssm.edu          S.F.\n",
       "25          stefan.ehrlich@tu-dresden.de          S.E.\n",
       "56                      sthomopo@usc.edu        S.I.T.\n",
       "125                 sundaqiang@gmail.com          D.S.\n",
       "18                 sven.mueller@ugent.be        S.C.M.\n",
       "64         sylvane.desrivieres@kcl.ac.uk          S.D.\n",
       "46            t.p.gurholt@medisin.uio.no        T.P.G.\n",
       "79              thomas.frodl@med.ovgu.de          T.F.\n",
       "160               tianyejia@fudan.edu.cn          T.J.\n",
       "82                  tiffnie@stanford.edu        T.C.H.\n",
       "2                           tnir@usc.edu        T.M.N.\n",
       "76                    tomas.hajek@dal.ca          T.H.\n",
       "34                       tvanerp@uci.edu    T.G.M..vE.\n",
       "94            ulrike.lueken@hu-berlin.de          U.L.\n",
       "155            voelzke@uni-greifswald.de          H.V.\n",
       "140                      vzelman@usc.edu          V.Z.\n",
       "74                waltonesther@gmail.com          E.W.\n",
       "121             willembenjamin@gmail.com        W.B.B.\n",
       "11            xiangzhen.kong@outlook.com          X.K.\n",
       "86              yannying.chye@monash.edu          Y.C.\n",
       "38                 yd.vanderwerf@vumc.nl     Y.D..vdW.\n",
       "81                    zhangy@upstate.edu        Y.Z-J.\n",
       "\n",
       "[174 rows x 2 columns]"
      ]
     },
     "execution_count": 91,
     "metadata": {},
     "output_type": "execute_result"
    }
   ],
   "source": [
    "authors_emails.sort_values(by=['Email Address'])"
   ]
  },
  {
   "cell_type": "code",
   "execution_count": null,
   "metadata": {},
   "outputs": [],
   "source": []
  },
  {
   "cell_type": "code",
   "execution_count": 67,
   "metadata": {},
   "outputs": [
    {
     "data": {
      "text/plain": [
       "'Bearden '"
      ]
     },
     "execution_count": 67,
     "metadata": {},
     "output_type": "execute_result"
    }
   ],
   "source": [
    "df.iloc[30]['Last Name']"
   ]
  },
  {
   "cell_type": "markdown",
   "metadata": {},
   "source": [
    "# Evaulation"
   ]
  },
  {
   "cell_type": "code",
   "execution_count": 81,
   "metadata": {},
   "outputs": [],
   "source": [
    "df_ref = pd.read_csv(\"reference.csv\")"
   ]
  },
  {
   "cell_type": "code",
   "execution_count": 86,
   "metadata": {},
   "outputs": [],
   "source": [
    "df_ref_sorted = df_ref.sort_values(by=['Email Address'])"
   ]
  },
  {
   "cell_type": "code",
   "execution_count": 96,
   "metadata": {},
   "outputs": [
    {
     "data": {
      "text/plain": [
       "count                          170\n",
       "unique                         170\n",
       "top       hosten@uni-greifswald.de\n",
       "freq                             1\n",
       "Name: Email Address, dtype: object"
      ]
     },
     "execution_count": 96,
     "metadata": {},
     "output_type": "execute_result"
    }
   ],
   "source": [
    "df_ref['Email Address'].describe()"
   ]
  },
  {
   "cell_type": "code",
   "execution_count": 92,
   "metadata": {},
   "outputs": [
    {
     "data": {
      "text/plain": [
       "170"
      ]
     },
     "execution_count": 92,
     "metadata": {},
     "output_type": "execute_result"
    }
   ],
   "source": [
    "len(df_ref_sorted)"
   ]
  },
  {
   "cell_type": "code",
   "execution_count": 93,
   "metadata": {},
   "outputs": [
    {
     "data": {
      "text/plain": [
       "174"
      ]
     },
     "execution_count": 93,
     "metadata": {},
     "output_type": "execute_result"
    }
   ],
   "source": [
    "len(authors_emails)"
   ]
  },
  {
   "cell_type": "code",
   "execution_count": 99,
   "metadata": {},
   "outputs": [
    {
     "data": {
      "text/html": [
       "<div>\n",
       "<style scoped>\n",
       "    .dataframe tbody tr th:only-of-type {\n",
       "        vertical-align: middle;\n",
       "    }\n",
       "\n",
       "    .dataframe tbody tr th {\n",
       "        vertical-align: top;\n",
       "    }\n",
       "\n",
       "    .dataframe thead th {\n",
       "        text-align: right;\n",
       "    }\n",
       "</style>\n",
       "<table border=\"1\" class=\"dataframe\">\n",
       "  <thead>\n",
       "    <tr style=\"text-align: right;\">\n",
       "      <th></th>\n",
       "      <th>Timestamp</th>\n",
       "      <th>Email Address</th>\n",
       "      <th>First Name</th>\n",
       "      <th>Middle Initial(s)</th>\n",
       "      <th>Last Name</th>\n",
       "      <th>Highest degree (PhD, MD, etc)</th>\n",
       "      <th>Working Group(s)</th>\n",
       "      <th>Department, Institution (e.g. Psychiatric Genetics, QIMR Berghofer Medical Research Institute)</th>\n",
       "      <th>Street address (e.g. 300 Herston Rd)</th>\n",
       "      <th>City (e.g. Brisbane)</th>\n",
       "      <th>...</th>\n",
       "      <th>Country.1</th>\n",
       "      <th>Department, Institution</th>\n",
       "      <th>Street address</th>\n",
       "      <th>City</th>\n",
       "      <th>ZIP or Postal Code.2</th>\n",
       "      <th>State or Province  (if applicable).2</th>\n",
       "      <th>Country.2</th>\n",
       "      <th>4+ Affiliations (please leave an empty line between affiliations)</th>\n",
       "      <th>Funding Acknowledgements</th>\n",
       "      <th>Conflict of Interest/Disclosures</th>\n",
       "    </tr>\n",
       "  </thead>\n",
       "  <tbody>\n",
       "    <tr>\n",
       "      <th>113</th>\n",
       "      <td>4/30/2019 11:15:30</td>\n",
       "      <td>iliyani@yahoo.com</td>\n",
       "      <td>iliyan</td>\n",
       "      <td>NaN</td>\n",
       "      <td>ivanov</td>\n",
       "      <td>iliyani@yahoo.com</td>\n",
       "      <td>ENIGMA</td>\n",
       "      <td>Icahn School of Medicine</td>\n",
       "      <td>One Gustave Levy Place</td>\n",
       "      <td>NEW YORK</td>\n",
       "      <td>...</td>\n",
       "      <td>NaN</td>\n",
       "      <td>NaN</td>\n",
       "      <td>NaN</td>\n",
       "      <td>NaN</td>\n",
       "      <td>NaN</td>\n",
       "      <td>NaN</td>\n",
       "      <td>NaN</td>\n",
       "      <td>NaN</td>\n",
       "      <td>NIDA</td>\n",
       "      <td>Lundbeck Data Monitoring Committee</td>\n",
       "    </tr>\n",
       "    <tr>\n",
       "      <th>148</th>\n",
       "      <td>5/1/2019 19:45:47</td>\n",
       "      <td>kwonjs@snu.ac.kr</td>\n",
       "      <td>Jun Soo</td>\n",
       "      <td>NaN</td>\n",
       "      <td>Kwon</td>\n",
       "      <td>NaN</td>\n",
       "      <td>ENIGMA-OCD Working Group</td>\n",
       "      <td>Department of Psychiatry, Seoul National Unive...</td>\n",
       "      <td>101, Daehang-ro Jongno-gu</td>\n",
       "      <td>Seoul</td>\n",
       "      <td>...</td>\n",
       "      <td>Republic of Korea</td>\n",
       "      <td>NaN</td>\n",
       "      <td>NaN</td>\n",
       "      <td>NaN</td>\n",
       "      <td>NaN</td>\n",
       "      <td>NaN</td>\n",
       "      <td>NaN</td>\n",
       "      <td>NaN</td>\n",
       "      <td>None</td>\n",
       "      <td>No financial or non-financial conflicts of int...</td>\n",
       "    </tr>\n",
       "    <tr>\n",
       "      <th>170</th>\n",
       "      <td>5/17/2019 4:24:04</td>\n",
       "      <td>ikoerte@bwh.harvard.edu</td>\n",
       "      <td>Inga</td>\n",
       "      <td>K</td>\n",
       "      <td>Koerte</td>\n",
       "      <td>ikoerte@med.lmu.de</td>\n",
       "      <td>TBI, PTSD</td>\n",
       "      <td>cBRAIN, Department of Child and Adolescent Psy...</td>\n",
       "      <td>Waltherstrasse 23</td>\n",
       "      <td>Muenchen</td>\n",
       "      <td>...</td>\n",
       "      <td>United States</td>\n",
       "      <td>NaN</td>\n",
       "      <td>NaN</td>\n",
       "      <td>NaN</td>\n",
       "      <td>NaN</td>\n",
       "      <td>NaN</td>\n",
       "      <td>NaN</td>\n",
       "      <td>NaN</td>\n",
       "      <td>R01NS100952, ERA-NET Neuron</td>\n",
       "      <td>Spouse is employee of Siemens Healthineers</td>\n",
       "    </tr>\n",
       "    <tr>\n",
       "      <th>172</th>\n",
       "      <td>5/24/2019 6:28:08</td>\n",
       "      <td>georg.homuth@uni-greifswald.de</td>\n",
       "      <td>Georg</td>\n",
       "      <td>NaN</td>\n",
       "      <td>Homuth</td>\n",
       "      <td>NaN</td>\n",
       "      <td>University Medicine Greifswald</td>\n",
       "      <td>Interfaculty Institute for Genetics and Functi...</td>\n",
       "      <td>Felix-Hausdorff-Straße 8</td>\n",
       "      <td>Greifswald</td>\n",
       "      <td>...</td>\n",
       "      <td>NaN</td>\n",
       "      <td>NaN</td>\n",
       "      <td>NaN</td>\n",
       "      <td>NaN</td>\n",
       "      <td>NaN</td>\n",
       "      <td>NaN</td>\n",
       "      <td>NaN</td>\n",
       "      <td>NaN</td>\n",
       "      <td>None</td>\n",
       "      <td>None</td>\n",
       "    </tr>\n",
       "    <tr>\n",
       "      <th>173</th>\n",
       "      <td>6/7/2019 10:51:55</td>\n",
       "      <td>dbaron@westernu.edu</td>\n",
       "      <td>David</td>\n",
       "      <td>A</td>\n",
       "      <td>Baron</td>\n",
       "      <td>na</td>\n",
       "      <td>sports concussion</td>\n",
       "      <td>Center for Exercise, Psychiatry and Sport,  We...</td>\n",
       "      <td>309 E 2nd. St</td>\n",
       "      <td>Pomona</td>\n",
       "      <td>...</td>\n",
       "      <td>NaN</td>\n",
       "      <td>NaN</td>\n",
       "      <td>NaN</td>\n",
       "      <td>NaN</td>\n",
       "      <td>NaN</td>\n",
       "      <td>NaN</td>\n",
       "      <td>NaN</td>\n",
       "      <td>NaN</td>\n",
       "      <td>NIDA, APA, DoD</td>\n",
       "      <td>no COI</td>\n",
       "    </tr>\n",
       "  </tbody>\n",
       "</table>\n",
       "<p>5 rows × 28 columns</p>\n",
       "</div>"
      ],
      "text/plain": [
       "              Timestamp                   Email Address First Name  \\\n",
       "113  4/30/2019 11:15:30               iliyani@yahoo.com     iliyan   \n",
       "148   5/1/2019 19:45:47                kwonjs@snu.ac.kr    Jun Soo   \n",
       "170   5/17/2019 4:24:04         ikoerte@bwh.harvard.edu       Inga   \n",
       "172   5/24/2019 6:28:08  georg.homuth@uni-greifswald.de      Georg   \n",
       "173   6/7/2019 10:51:55             dbaron@westernu.edu      David   \n",
       "\n",
       "    Middle Initial(s) Last Name Highest degree (PhD, MD, etc)  \\\n",
       "113               NaN    ivanov             iliyani@yahoo.com   \n",
       "148               NaN      Kwon                           NaN   \n",
       "170                 K    Koerte            ikoerte@med.lmu.de   \n",
       "172               NaN    Homuth                           NaN   \n",
       "173                 A     Baron                            na   \n",
       "\n",
       "                   Working Group(s)  \\\n",
       "113                          ENIGMA   \n",
       "148        ENIGMA-OCD Working Group   \n",
       "170                       TBI, PTSD   \n",
       "172  University Medicine Greifswald   \n",
       "173               sports concussion   \n",
       "\n",
       "    Department, Institution (e.g. Psychiatric Genetics, QIMR Berghofer Medical Research Institute)  \\\n",
       "113                          Icahn School of Medicine                                                \n",
       "148  Department of Psychiatry, Seoul National Unive...                                               \n",
       "170  cBRAIN, Department of Child and Adolescent Psy...                                               \n",
       "172  Interfaculty Institute for Genetics and Functi...                                               \n",
       "173  Center for Exercise, Psychiatry and Sport,  We...                                               \n",
       "\n",
       "    Street address (e.g. 300 Herston Rd) City (e.g. Brisbane)  ...  \\\n",
       "113               One Gustave Levy Place             NEW YORK  ...   \n",
       "148            101, Daehang-ro Jongno-gu                Seoul  ...   \n",
       "170                    Waltherstrasse 23             Muenchen  ...   \n",
       "172             Felix-Hausdorff-Straße 8           Greifswald  ...   \n",
       "173                        309 E 2nd. St               Pomona  ...   \n",
       "\n",
       "             Country.1 Department, Institution  Street address  City   \\\n",
       "113                NaN                      NaN             NaN   NaN   \n",
       "148  Republic of Korea                      NaN             NaN   NaN   \n",
       "170      United States                      NaN             NaN   NaN   \n",
       "172                NaN                      NaN             NaN   NaN   \n",
       "173                NaN                      NaN             NaN   NaN   \n",
       "\n",
       "    ZIP or Postal Code.2 State or Province  (if applicable).2 Country.2  \\\n",
       "113                  NaN                                  NaN       NaN   \n",
       "148                  NaN                                  NaN       NaN   \n",
       "170                  NaN                                  NaN       NaN   \n",
       "172                  NaN                                  NaN       NaN   \n",
       "173                  NaN                                  NaN       NaN   \n",
       "\n",
       "    4+ Affiliations (please leave an empty line between affiliations)   \\\n",
       "113                                                NaN                   \n",
       "148                                                NaN                   \n",
       "170                                                NaN                   \n",
       "172                                                NaN                   \n",
       "173                                                NaN                   \n",
       "\n",
       "        Funding Acknowledgements  \\\n",
       "113                         NIDA   \n",
       "148                         None   \n",
       "170  R01NS100952, ERA-NET Neuron   \n",
       "172                         None   \n",
       "173               NIDA, APA, DoD   \n",
       "\n",
       "                      Conflict of Interest/Disclosures  \n",
       "113                Lundbeck Data Monitoring Committee   \n",
       "148  No financial or non-financial conflicts of int...  \n",
       "170         Spouse is employee of Siemens Healthineers  \n",
       "172                                               None  \n",
       "173                                             no COI  \n",
       "\n",
       "[5 rows x 28 columns]"
      ]
     },
     "execution_count": 99,
     "metadata": {},
     "output_type": "execute_result"
    }
   ],
   "source": [
    "df[df['Email Address'].duplicated()]"
   ]
  },
  {
   "cell_type": "code",
   "execution_count": 100,
   "metadata": {},
   "outputs": [
    {
     "data": {
      "text/html": [
       "<div>\n",
       "<style scoped>\n",
       "    .dataframe tbody tr th:only-of-type {\n",
       "        vertical-align: middle;\n",
       "    }\n",
       "\n",
       "    .dataframe tbody tr th {\n",
       "        vertical-align: top;\n",
       "    }\n",
       "\n",
       "    .dataframe thead th {\n",
       "        text-align: right;\n",
       "    }\n",
       "</style>\n",
       "<table border=\"1\" class=\"dataframe\">\n",
       "  <thead>\n",
       "    <tr style=\"text-align: right;\">\n",
       "      <th></th>\n",
       "      <th>Timestamp</th>\n",
       "      <th>Email Address</th>\n",
       "      <th>First Name</th>\n",
       "      <th>Middle Initial(s)</th>\n",
       "      <th>Last Name</th>\n",
       "      <th>Highest degree (PhD, MD, etc)</th>\n",
       "      <th>Working Group(s)</th>\n",
       "      <th>Department, Institution (e.g. Psychiatric Genetics, QIMR Berghofer Medical Research Institute)</th>\n",
       "      <th>Street address (e.g. 300 Herston Rd)</th>\n",
       "      <th>City (e.g. Brisbane)</th>\n",
       "      <th>...</th>\n",
       "      <th>Country.1</th>\n",
       "      <th>Department, Institution</th>\n",
       "      <th>Street address</th>\n",
       "      <th>City</th>\n",
       "      <th>ZIP or Postal Code.2</th>\n",
       "      <th>State or Province  (if applicable).2</th>\n",
       "      <th>Country.2</th>\n",
       "      <th>4+ Affiliations (please leave an empty line between affiliations)</th>\n",
       "      <th>Funding Acknowledgements</th>\n",
       "      <th>Conflict of Interest/Disclosures</th>\n",
       "    </tr>\n",
       "  </thead>\n",
       "  <tbody>\n",
       "    <tr>\n",
       "      <th>77</th>\n",
       "      <td>4/29/2019 10:38:25</td>\n",
       "      <td>iliyani@yahoo.com</td>\n",
       "      <td>iliyan</td>\n",
       "      <td>NaN</td>\n",
       "      <td>ivanov</td>\n",
       "      <td>iliyani@yahoo.com</td>\n",
       "      <td>ADHD SUD</td>\n",
       "      <td>Icahn School of Medicine at Mount Sinai</td>\n",
       "      <td>One Gustave Levy Place</td>\n",
       "      <td>NEW YORK</td>\n",
       "      <td>...</td>\n",
       "      <td>NaN</td>\n",
       "      <td>NaN</td>\n",
       "      <td>NaN</td>\n",
       "      <td>NaN</td>\n",
       "      <td>NaN</td>\n",
       "      <td>NaN</td>\n",
       "      <td>NaN</td>\n",
       "      <td>NaN</td>\n",
       "      <td>1R03DA25796-1  -NIDA; K23 PA-00-003   NIDA AAC...</td>\n",
       "      <td>DSMC Lundbeck - honorarium; NIDA Stanley Found...</td>\n",
       "    </tr>\n",
       "    <tr>\n",
       "      <th>113</th>\n",
       "      <td>4/30/2019 11:15:30</td>\n",
       "      <td>iliyani@yahoo.com</td>\n",
       "      <td>iliyan</td>\n",
       "      <td>NaN</td>\n",
       "      <td>ivanov</td>\n",
       "      <td>iliyani@yahoo.com</td>\n",
       "      <td>ENIGMA</td>\n",
       "      <td>Icahn School of Medicine</td>\n",
       "      <td>One Gustave Levy Place</td>\n",
       "      <td>NEW YORK</td>\n",
       "      <td>...</td>\n",
       "      <td>NaN</td>\n",
       "      <td>NaN</td>\n",
       "      <td>NaN</td>\n",
       "      <td>NaN</td>\n",
       "      <td>NaN</td>\n",
       "      <td>NaN</td>\n",
       "      <td>NaN</td>\n",
       "      <td>NaN</td>\n",
       "      <td>NIDA</td>\n",
       "      <td>Lundbeck Data Monitoring Committee</td>\n",
       "    </tr>\n",
       "  </tbody>\n",
       "</table>\n",
       "<p>2 rows × 28 columns</p>\n",
       "</div>"
      ],
      "text/plain": [
       "              Timestamp      Email Address First Name Middle Initial(s)  \\\n",
       "77   4/29/2019 10:38:25  iliyani@yahoo.com     iliyan               NaN   \n",
       "113  4/30/2019 11:15:30  iliyani@yahoo.com     iliyan               NaN   \n",
       "\n",
       "    Last Name Highest degree (PhD, MD, etc) Working Group(s)  \\\n",
       "77     ivanov             iliyani@yahoo.com        ADHD SUD    \n",
       "113    ivanov             iliyani@yahoo.com           ENIGMA   \n",
       "\n",
       "    Department, Institution (e.g. Psychiatric Genetics, QIMR Berghofer Medical Research Institute)  \\\n",
       "77            Icahn School of Medicine at Mount Sinai                                                \n",
       "113                          Icahn School of Medicine                                                \n",
       "\n",
       "    Street address (e.g. 300 Herston Rd) City (e.g. Brisbane)  ... Country.1  \\\n",
       "77                One Gustave Levy Place             NEW YORK  ...       NaN   \n",
       "113               One Gustave Levy Place             NEW YORK  ...       NaN   \n",
       "\n",
       "    Department, Institution  Street address  City  ZIP or Postal Code.2  \\\n",
       "77                       NaN             NaN   NaN                  NaN   \n",
       "113                      NaN             NaN   NaN                  NaN   \n",
       "\n",
       "    State or Province  (if applicable).2 Country.2  \\\n",
       "77                                   NaN       NaN   \n",
       "113                                  NaN       NaN   \n",
       "\n",
       "    4+ Affiliations (please leave an empty line between affiliations)   \\\n",
       "77                                                 NaN                   \n",
       "113                                                NaN                   \n",
       "\n",
       "                              Funding Acknowledgements  \\\n",
       "77   1R03DA25796-1  -NIDA; K23 PA-00-003   NIDA AAC...   \n",
       "113                                               NIDA   \n",
       "\n",
       "                      Conflict of Interest/Disclosures  \n",
       "77   DSMC Lundbeck - honorarium; NIDA Stanley Found...  \n",
       "113                Lundbeck Data Monitoring Committee   \n",
       "\n",
       "[2 rows x 28 columns]"
      ]
     },
     "execution_count": 100,
     "metadata": {},
     "output_type": "execute_result"
    }
   ],
   "source": [
    "df[df['Email Address'] == 'iliyani@yahoo.com']"
   ]
  },
  {
   "cell_type": "code",
   "execution_count": null,
   "metadata": {},
   "outputs": [],
   "source": []
  }
 ],
 "metadata": {
  "kernelspec": {
   "display_name": "Python 3",
   "language": "python",
   "name": "python3"
  },
  "language_info": {
   "codemirror_mode": {
    "name": "ipython",
    "version": 3
   },
   "file_extension": ".py",
   "mimetype": "text/x-python",
   "name": "python",
   "nbconvert_exporter": "python",
   "pygments_lexer": "ipython3",
   "version": "3.7.3"
  }
 },
 "nbformat": 4,
 "nbformat_minor": 4
}
