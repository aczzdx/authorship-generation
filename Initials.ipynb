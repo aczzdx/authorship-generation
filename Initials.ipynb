{
 "cells": [
  {
   "cell_type": "code",
   "execution_count": 221,
   "metadata": {},
   "outputs": [],
   "source": [
    "import pandas as pd"
   ]
  },
  {
   "cell_type": "code",
   "execution_count": 222,
   "metadata": {},
   "outputs": [],
   "source": [
    "import numpy as np"
   ]
  },
  {
   "cell_type": "code",
   "execution_count": 223,
   "metadata": {},
   "outputs": [],
   "source": [
    "df = pd.read_csv(\"authors.csv\")\n",
    "row = df.iloc[0, :]"
   ]
  },
  {
   "cell_type": "code",
   "execution_count": 224,
   "metadata": {},
   "outputs": [],
   "source": [
    "for tag in ['First Name', 'Middle Initial(s)', 'Last Name']:\n",
    "    df[tag] = df[tag].apply(lambda name: name.strip() if not pd.isnull(name) else name )"
   ]
  },
  {
   "cell_type": "code",
   "execution_count": 225,
   "metadata": {},
   "outputs": [],
   "source": [
    "def get_first_name_initial(first_name):\n",
    "    \n",
    "    l1 = [word.split('-') for word in first_name.split(' ')]\n",
    "    return '.-'.join(['.-'.join([name[0] for name in l])for l in l1])"
   ]
  },
  {
   "cell_type": "code",
   "execution_count": 226,
   "metadata": {},
   "outputs": [
    {
     "data": {
      "text/plain": [
       "'L'"
      ]
     },
     "execution_count": 226,
     "metadata": {},
     "output_type": "execute_result"
    }
   ],
   "source": [
    "get_first_name_initial(row['First Name'])"
   ]
  },
  {
   "cell_type": "code",
   "execution_count": 227,
   "metadata": {},
   "outputs": [],
   "source": [
    "def get_last_name_initial(last_name):\n",
    "    \n",
    "    l2 = [word.split('-') for word in last_name.split(' ')]    \n",
    "    return ''.join(['.-'.join([name[0] for name in l]) for l in l2])"
   ]
  },
  {
   "cell_type": "code",
   "execution_count": 228,
   "metadata": {},
   "outputs": [
    {
     "data": {
      "text/plain": [
       "'S'"
      ]
     },
     "execution_count": 228,
     "metadata": {},
     "output_type": "execute_result"
    }
   ],
   "source": [
    "get_last_name_initial(row['Last Name'])"
   ]
  },
  {
   "cell_type": "code",
   "execution_count": 229,
   "metadata": {},
   "outputs": [],
   "source": [
    "def get_middle_initial(Middle_Initial):\n",
    "    result='.' in Middle_Initial\n",
    "    if result==False:\n",
    "        ret = Middle_Initial+'.'\n",
    "    else:\n",
    "        ret = Middle_Initial\n",
    "    \n",
    "    return ret"
   ]
  },
  {
   "cell_type": "code",
   "execution_count": 230,
   "metadata": {},
   "outputs": [
    {
     "data": {
      "text/plain": [
       "'E.'"
      ]
     },
     "execution_count": 230,
     "metadata": {},
     "output_type": "execute_result"
    }
   ],
   "source": [
    "get_middle_initial(row['Middle Initial(s)'])"
   ]
  },
  {
   "cell_type": "code",
   "execution_count": 233,
   "metadata": {},
   "outputs": [],
   "source": [
    "def get_initial(row):\n",
    "    \n",
    "    ret = get_first_name_initial(row['First Name']) + '.' \n",
    "    if not pd.isnull(row['Middle Initial(s)']):\n",
    "        ret += get_middle_initial(row['Middle Initial(s)']);\n",
    "\n",
    "    ret += get_last_name_initial(row['Last Name'])  + '.'\n",
    "    \n",
    "    return ret"
   ]
  },
  {
   "cell_type": "code",
   "execution_count": 235,
   "metadata": {},
   "outputs": [],
   "source": [
    "initial=[];\n",
    "for i in range(len(df)):\n",
    "    row = df.iloc[i, :]\n",
    "    l= get_initial(row)\n",
    "    initial.append(l)\n",
    "    i=i+1"
   ]
  },
  {
   "cell_type": "code",
   "execution_count": 234,
   "metadata": {},
   "outputs": [
    {
     "data": {
      "text/plain": [
       "'L.E.S.'"
      ]
     },
     "execution_count": 234,
     "metadata": {},
     "output_type": "execute_result"
    }
   ],
   "source": [
    "get_initial(row)"
   ]
  },
  {
   "cell_type": "code",
   "execution_count": 237,
   "metadata": {},
   "outputs": [
    {
     "data": {
      "text/plain": [
       "['L.E.S.',\n",
       " 'E.L.D.',\n",
       " 'T.M.N.',\n",
       " 'P.K.',\n",
       " 'A.R.B.-S.',\n",
       " 'C.R.M.',\n",
       " 'O.A.A.',\n",
       " 'M.Z.',\n",
       " 'M.T.',\n",
       " 'M.E.R.',\n",
       " 'G.M.',\n",
       " 'X.-Z.K.',\n",
       " 'J.K.B.',\n",
       " 'D.vR.',\n",
       " 'M.H.',\n",
       " 'S.M.S.',\n",
       " 'N.A.G.',\n",
       " 'N.EM.vH.',\n",
       " 'S.C.M.',\n",
       " 'I.A.',\n",
       " 'M.A.',\n",
       " 'd.p.',\n",
       " 'I.H.H.',\n",
       " 'R.A.M.',\n",
       " 'S.E.F.',\n",
       " 'S.E.',\n",
       " 'G.F.',\n",
       " 'H.P.G.',\n",
       " 'S.-L.L.',\n",
       " 'C.AM.C.',\n",
       " 'C.E.B.',\n",
       " 'J.H.C.',\n",
       " 'L.H.',\n",
       " 'C.D.W.',\n",
       " 'T.G.M.vE.',\n",
       " 'D.H.',\n",
       " 'N.J.A.vdW.',\n",
       " 'O.A.vdH.',\n",
       " 'Y.D.vdW.',\n",
       " 'A.R.M.',\n",
       " 'C.E.',\n",
       " 'D.F.T.',\n",
       " 'C.A.F.',\n",
       " 'E.L.',\n",
       " 'P.J.C.',\n",
       " 'A.O.',\n",
       " 'T.P.G.',\n",
       " 'J.L.S.',\n",
       " 'I.K.K.',\n",
       " 'D.C.G.',\n",
       " 'R.M.B.',\n",
       " 'F.G.H.',\n",
       " 'B.M.A.',\n",
       " 'B.L.B.-O.',\n",
       " 'A.P.L.',\n",
       " 'S.F.',\n",
       " 'S.I.T.',\n",
       " 'K.C.',\n",
       " 'I.E.S.',\n",
       " 'T.H.',\n",
       " 'J.-M.B.-H.',\n",
       " 'F.M.',\n",
       " 'A.A.',\n",
       " 'S.MC.dZ.',\n",
       " 'S.D.',\n",
       " 'M.W.L.',\n",
       " 'L.A.B.',\n",
       " 'S.M.',\n",
       " 'B.F.',\n",
       " 'C.F.',\n",
       " 'M.C.P.',\n",
       " 'C.G.F.dK.',\n",
       " 'R.R.A.',\n",
       " 'D.J.S.',\n",
       " 'E.W.',\n",
       " 'F.P.',\n",
       " 'T.H.',\n",
       " 'i.i.',\n",
       " 'L.W.',\n",
       " 'T.F.',\n",
       " 'L.T.',\n",
       " 'Y.Z.-J.',\n",
       " 'T.C.H.',\n",
       " 'A.K.T.',\n",
       " 'C.R. K.C.',\n",
       " 'M.J.',\n",
       " 'Y.C.',\n",
       " 'L.S.vV.',\n",
       " 'J.C.',\n",
       " 'J.-S.K.',\n",
       " 'S.E.M.',\n",
       " 'J.-Y.Y.',\n",
       " 'P.F.',\n",
       " 'U.D.',\n",
       " 'U.L.',\n",
       " 'J.B.',\n",
       " 'J.H.',\n",
       " 'D.J.V.',\n",
       " 'I.M.V.',\n",
       " 'N.O.',\n",
       " 'G.A.vW.',\n",
       " 'H.E.HP.',\n",
       " 'G.S.',\n",
       " 'E.J.W.VS.',\n",
       " 'J.A.T.',\n",
       " 'S.N.H.',\n",
       " 'N.S.',\n",
       " 'L.T.E.',\n",
       " 'S.K.',\n",
       " 'S.V.F.',\n",
       " 'P.P.',\n",
       " 'A.B.M.',\n",
       " 'R.C.K.',\n",
       " 'i.i.',\n",
       " 'D.P.H.',\n",
       " 'P.M.',\n",
       " 'N.J.',\n",
       " 'E.T.K.',\n",
       " 'P.SW.B.',\n",
       " 'B.A.G.',\n",
       " 'd.a.b.',\n",
       " 'W.B.B.',\n",
       " 'J.E.V.-R.',\n",
       " 'D.G.',\n",
       " 'M.J.W.',\n",
       " 'D.S.',\n",
       " 'Y.G.',\n",
       " 'J.-P.F.',\n",
       " 'S.A.DB.',\n",
       " 'C.vdM.',\n",
       " 'B.Theodor.B.',\n",
       " 'C.S.-M.',\n",
       " 'S.B.',\n",
       " 'D.J.A.S.',\n",
       " 'J.L.',\n",
       " 'A.N.',\n",
       " 'H.J.G.',\n",
       " 'G.D.',\n",
       " 'A.M.W.',\n",
       " 'G.S.',\n",
       " 'V.Z.',\n",
       " 'A.T.',\n",
       " 'N.H.',\n",
       " 'M.S.S.',\n",
       " 'A.A.',\n",
       " 'R.B.',\n",
       " 'K.L.G.',\n",
       " 'L.S.',\n",
       " 'J.-S.K.',\n",
       " 'J.O.',\n",
       " 'L.KM.H.',\n",
       " 'F.P.',\n",
       " 'f.p.',\n",
       " 'K.H.',\n",
       " 'K.W.',\n",
       " 'H.V.',\n",
       " 'P.G.S.',\n",
       " 'D.D.',\n",
       " 'E.A.W.',\n",
       " 'E.P.',\n",
       " 'T.J.',\n",
       " 'J.D.R.',\n",
       " 'R.A.C.',\n",
       " 'G.H.',\n",
       " 'H.W.',\n",
       " 'G.Z.',\n",
       " 'T.H.',\n",
       " 'G.K.',\n",
       " 'L.N.-B.',\n",
       " 'M.K.',\n",
       " 'I.K.K.',\n",
       " 'M.A.L.',\n",
       " 'G.H.',\n",
       " 'D.A.B.']"
      ]
     },
     "execution_count": 237,
     "metadata": {},
     "output_type": "execute_result"
    }
   ],
   "source": [
    "initial"
   ]
  }
 ],
 "metadata": {
  "kernelspec": {
   "display_name": "Python 3",
   "language": "python",
   "name": "python3"
  },
  "language_info": {
   "codemirror_mode": {
    "name": "ipython",
    "version": 3
   },
   "file_extension": ".py",
   "mimetype": "text/x-python",
   "name": "python",
   "nbconvert_exporter": "python",
   "pygments_lexer": "ipython3",
   "version": "3.7.4"
  }
 },
 "nbformat": 4,
 "nbformat_minor": 4
}
