{
 "cells": [
  {
   "cell_type": "code",
   "execution_count": 1,
   "metadata": {
    "pycharm": {
     "is_executing": false
    }
   },
   "outputs": [],
   "source": [
    "import pandas as pd\n",
    "import numpy as np\n",
    "df = pd.read_csv(\"authors.csv\")"
   ]
  },
  {
   "cell_type": "code",
   "execution_count": 2,
   "metadata": {
    "pycharm": {
     "is_executing": false
    }
   },
   "outputs": [
    {
     "data": {
      "text/plain": "Index(['Timestamp', 'Email Address', 'First Name', 'Middle Initial(s)',\n       'Last Name', 'Highest degree (PhD, MD, etc)', 'Working Group(s)',\n       'Department, Institution (e.g. Psychiatric Genetics, QIMR Berghofer Medical Research Institute)',\n       'Street address (e.g. 300 Herston Rd)', 'City (e.g. Brisbane)',\n       'ZIP or Postal Code', 'State or Province  (if applicable)', 'Country',\n       'Department, Institution', 'Street address', 'City',\n       'ZIP or Postal Code.1', 'State or Province  (if applicable).1',\n       'Country.1', 'Department, Institution ', 'Street address ', 'City ',\n       'ZIP or Postal Code.2', 'State or Province  (if applicable).2',\n       'Country.2',\n       '4+ Affiliations (please leave an empty line between affiliations) ',\n       'Funding Acknowledgements', 'Conflict of Interest/Disclosures'],\n      dtype='object')"
     },
     "metadata": {},
     "output_type": "execute_result",
     "execution_count": 2
    }
   ],
   "source": [
    "df.columns"
   ]
  },
  {
   "cell_type": "code",
   "execution_count": 3,
   "metadata": {
    "pycharm": {
     "is_executing": false
    }
   },
   "outputs": [],
   "source": [
    "df_deparments_and_address = df.iloc[:, [7, 8, 9, 10, 11, 12]]"
   ]
  },
  {
   "cell_type": "markdown",
   "metadata": {},
   "source": [
    "# Cleaning for Record cleaning"
   ]
  },
  {
   "cell_type": "code",
   "execution_count": 4,
   "metadata": {
    "pycharm": {
     "is_executing": false
    }
   },
   "outputs": [],
   "source": [
    "from recordlinkage.preprocessing import clean"
   ]
  },
  {
   "cell_type": "code",
   "execution_count": 5,
   "metadata": {
    "pycharm": {
     "is_executing": false
    }
   },
   "outputs": [],
   "source": [
    "df_cleaned = df_deparments_and_address.apply(clean, axis=1)"
   ]
  },
  {
   "cell_type": "markdown",
   "metadata": {},
   "source": [
    "Rename the name of columns"
   ]
  },
  {
   "cell_type": "code",
   "execution_count": 6,
   "metadata": {
    "pycharm": {
     "is_executing": false
    }
   },
   "outputs": [],
   "source": [
    "df_cleaned.columns = [\n",
    "    'department', 'street', 'city', 'zip', 'state', 'country'\n",
    "]"
   ]
  },
  {
   "cell_type": "markdown",
   "metadata": {},
   "source": [
    "# Index and check"
   ]
  },
  {
   "cell_type": "code",
   "execution_count": 7,
   "metadata": {
    "pycharm": {
     "is_executing": false
    }
   },
   "outputs": [],
   "source": [
    "import recordlinkage"
   ]
  },
  {
   "cell_type": "code",
   "execution_count": 8,
   "metadata": {
    "pycharm": {
     "is_executing": false
    }
   },
   "outputs": [
    {
     "name": "stdout",
     "text": [
      "WARNING:recordlinkage:indexing - performance warning - A full index can result in large number of record pairs.\n"
     ],
     "output_type": "stream"
    },
    {
     "name": "stderr",
     "text": [
      "/Users/xingyuwei/anaconda3/lib/python3.7/site-packages/recordlinkage/index.py:60: FutureWarning: the 'labels' keyword is deprecated, use 'codes' instead\n  levels=levels, labels=labels, verify_integrity=False)\n"
     ],
     "output_type": "stream"
    }
   ],
   "source": [
    "indexer = recordlinkage.Index()\n",
    "indexer.full()\n",
    "candidate_links = indexer.index(df_cleaned)"
   ]
  },
  {
   "cell_type": "code",
   "execution_count": 9,
   "metadata": {
    "pycharm": {
     "is_executing": false
    }
   },
   "outputs": [
    {
     "name": "stdout",
     "text": [
      "174 15051\n"
     ],
     "output_type": "stream"
    }
   ],
   "source": [
    "print(len(df_cleaned), len(candidate_links))"
   ]
  },
  {
   "cell_type": "markdown",
   "metadata": {},
   "source": [
    "# Compare records"
   ]
  },
  {
   "cell_type": "code",
   "execution_count": 14,
   "metadata": {
    "pycharm": {
     "is_executing": false
    }
   },
   "outputs": [],
   "source": [
    "compare_cl = recordlinkage.Compare()"
   ]
  },
  {
   "cell_type": "code",
   "execution_count": 15,
   "metadata": {
    "pycharm": {
     "is_executing": false
    }
   },
   "outputs": [],
   "source": [
    "for column_name in df_cleaned.columns:\n",
    "    compare_cl.string(column_name, column_name, 'jarowinkler')"
   ]
  },
  {
   "cell_type": "code",
   "execution_count": 16,
   "metadata": {
    "pycharm": {
     "is_executing": false
    }
   },
   "outputs": [
    {
     "data": {
      "text/plain": "                                          department              street  \\\n0                     imaging genetics center of usc  4676 admiralty way   \n1         department of neurology university of utah    175 n medical dr   \n2  imaging genetics center mark and mary stevens ...  4676 admiralty way   \n\n             city    zip       state        country  \n0  marina del rey  90292         NaN            usa  \n1  salt lake city  84132          ut  united states  \n2  marina del rey  90292  california            usa  ",
      "text/html": "<div>\n<style scoped>\n    .dataframe tbody tr th:only-of-type {\n        vertical-align: middle;\n    }\n\n    .dataframe tbody tr th {\n        vertical-align: top;\n    }\n\n    .dataframe thead th {\n        text-align: right;\n    }\n</style>\n<table border=\"1\" class=\"dataframe\">\n  <thead>\n    <tr style=\"text-align: right;\">\n      <th></th>\n      <th>department</th>\n      <th>street</th>\n      <th>city</th>\n      <th>zip</th>\n      <th>state</th>\n      <th>country</th>\n    </tr>\n  </thead>\n  <tbody>\n    <tr>\n      <th>0</th>\n      <td>imaging genetics center of usc</td>\n      <td>4676 admiralty way</td>\n      <td>marina del rey</td>\n      <td>90292</td>\n      <td>NaN</td>\n      <td>usa</td>\n    </tr>\n    <tr>\n      <th>1</th>\n      <td>department of neurology university of utah</td>\n      <td>175 n medical dr</td>\n      <td>salt lake city</td>\n      <td>84132</td>\n      <td>ut</td>\n      <td>united states</td>\n    </tr>\n    <tr>\n      <th>2</th>\n      <td>imaging genetics center mark and mary stevens ...</td>\n      <td>4676 admiralty way</td>\n      <td>marina del rey</td>\n      <td>90292</td>\n      <td>california</td>\n      <td>usa</td>\n    </tr>\n  </tbody>\n</table>\n</div>"
     },
     "metadata": {},
     "output_type": "execute_result",
     "execution_count": 16
    }
   ],
   "source": [
    "df_cleaned.iloc[0:3, :]"
   ]
  },
  {
   "cell_type": "code",
   "execution_count": 17,
   "metadata": {
    "pycharm": {
     "is_executing": false
    }
   },
   "outputs": [],
   "source": [
    "pair_scoring = compare_cl.compute(candidate_links, df_cleaned, df_cleaned)"
   ]
  },
  {
   "cell_type": "code",
   "execution_count": 30,
   "metadata": {
    "pycharm": {
     "is_executing": false
    }
   },
   "outputs": [],
   "source": [
    "kmeans = recordlinkage.KMeansClassifier()\n",
    "result_k_means  = kmeans.fit_predict(pair_scoring)"
   ]
  },
  {
   "cell_type": "code",
   "execution_count": 21,
   "outputs": [],
   "source": [
    "result_k_means\n"
   ],
   "metadata": {
    "collapsed": false,
    "pycharm": {
     "name": "#%%\n",
     "is_executing": false
    }
   }
  },
  {
   "cell_type": "markdown",
   "source": [
    "### using ECM Classifier"
   ],
   "metadata": {
    "collapsed": false,
    "pycharm": {
     "name": "#%% md\n"
    }
   }
  },
  {
   "cell_type": "code",
   "execution_count": 22,
   "outputs": [],
   "source": [
    "ecm = recordlinkage.ECMClassifier(binarize=0.8)\n",
    "result_ecm = ecm.fit(pair_scoring)"
   ],
   "metadata": {
    "collapsed": false,
    "pycharm": {
     "name": "#%% \n",
     "is_executing": false
    }
   }
  },
  {
   "cell_type": "markdown",
   "source": [
    "### using Sklearn classifier"
   ],
   "metadata": {
    "collapsed": false,
    "pycharm": {
     "name": "#%% md\n"
    }
   }
  },
  {
   "cell_type": "code",
   "execution_count": 23,
   "outputs": [],
   "source": [
    "import sklearn"
   ],
   "metadata": {
    "collapsed": false,
    "pycharm": {
     "name": "#%% \n",
     "is_executing": false
    }
   }
  },
  {
   "cell_type": "code",
   "execution_count": 28,
   "outputs": [],
   "source": [
    "k_means_classifier = sklearn.cluster.KMeans(n_clusters=2)\n"
   ],
   "metadata": {
    "collapsed": false,
    "pycharm": {
     "name": "#%%\n",
     "is_executing": false
    }
   }
  },
  {
   "cell_type": "code",
   "execution_count": 29,
   "outputs": [],
   "source": [
    "result_k_means = k_means_classifier.fit_predict(pair_scoring)\n"
   ],
   "metadata": {
    "collapsed": false,
    "pycharm": {
     "name": "#%%\n",
     "is_executing": false
    }
   }
  }
 ],
 "metadata": {
  "kernelspec": {
   "display_name": "Python 3",
   "language": "python",
   "name": "python3"
  },
  "language_info": {
   "codemirror_mode": {
    "name": "ipython",
    "version": 3
   },
   "file_extension": ".py",
   "mimetype": "text/x-python",
   "name": "python",
   "nbconvert_exporter": "python",
   "pygments_lexer": "ipython3",
   "version": "3.7.3"
  },
  "pycharm": {
   "stem_cell": {
    "cell_type": "raw",
    "source": [],
    "metadata": {
     "collapsed": false
    }
   }
  }
 },
 "nbformat": 4,
 "nbformat_minor": 4
}