{
 "cells": [
  {
   "cell_type": "code",
   "execution_count": 1,
   "metadata": {
    "pycharm": {
     "is_executing": false
    }
   },
   "outputs": [],
   "source": [
    "import pandas as pd\n",
    "import numpy as np\n",
    "df = pd.read_csv(\"authors.csv\")"
   ]
  },
  {
   "cell_type": "code",
   "execution_count": 9,
   "metadata": {
    "pycharm": {
     "is_executing": false
    }
   },
   "outputs": [
    {
     "data": {
      "text/plain": [
       "Index(['Timestamp', 'Email Address', 'First Name', 'Middle Initial(s)',\n",
       "       'Last Name', 'Highest degree (PhD, MD, etc)', 'Working Group(s)',\n",
       "       'Department, Institution (e.g. Psychiatric Genetics, QIMR Berghofer Medical Research Institute)',\n",
       "       'Street address (e.g. 300 Herston Rd)', 'City (e.g. Brisbane)',\n",
       "       'ZIP or Postal Code', 'State or Province  (if applicable)', 'Country',\n",
       "       'Department, Institution', 'Street address', 'City',\n",
       "       'ZIP or Postal Code.1', 'State or Province  (if applicable).1',\n",
       "       'Country.1', 'Department, Institution ', 'Street address ', 'City ',\n",
       "       'ZIP or Postal Code.2', 'State or Province  (if applicable).2',\n",
       "       'Country.2',\n",
       "       '4+ Affiliations (please leave an empty line between affiliations) ',\n",
       "       'Funding Acknowledgements', 'Conflict of Interest/Disclosures'],\n",
       "      dtype='object')"
      ]
     },
     "execution_count": 9,
     "metadata": {},
     "output_type": "execute_result"
    }
   ],
   "source": [
    "df.columns"
   ]
  },
  {
   "cell_type": "code",
   "execution_count": 10,
   "metadata": {
    "pycharm": {
     "is_executing": false
    }
   },
   "outputs": [],
   "source": [
    "df_deparments_and_address = df.iloc[:, [7, 8, 9, 10, 11, 12]]"
   ]
  },
  {
   "cell_type": "markdown",
   "metadata": {},
   "source": [
    "# Cleaning for Record cleaning"
   ]
  },
  {
   "cell_type": "code",
   "execution_count": 46,
   "metadata": {
    "pycharm": {
     "is_executing": false
    }
   },
   "outputs": [],
   "source": [
    "from recordlinkage.preprocessing import clean"
   ]
  },
  {
   "cell_type": "code",
   "execution_count": 47,
   "metadata": {
    "pycharm": {
     "is_executing": false
    }
   },
   "outputs": [],
   "source": [
    "df_cleaned = df_deparments_and_address.apply(clean, axis=1)"
   ]
  },
  {
   "cell_type": "code",
   "execution_count": 48,
   "metadata": {},
   "outputs": [],
   "source": [
    "df_cleaned.columns = ['department', 'street', 'city', 'zip', 'state', 'country']"
   ]
  },
  {
   "cell_type": "markdown",
   "metadata": {},
   "source": [
    "Rename the name of columns"
   ]
  },
  {
   "cell_type": "markdown",
   "metadata": {},
   "source": [
    "# Index and check"
   ]
  },
  {
   "cell_type": "code",
   "execution_count": 49,
   "metadata": {
    "pycharm": {
     "is_executing": false
    }
   },
   "outputs": [],
   "source": [
    "import recordlinkage"
   ]
  },
  {
   "cell_type": "code",
   "execution_count": 50,
   "metadata": {},
   "outputs": [],
   "source": [
    "column_names = ['department', 'street', 'city', 'zip', 'country']"
   ]
  },
  {
   "cell_type": "code",
   "execution_count": 51,
   "metadata": {
    "pycharm": {
     "is_executing": false,
     "name": "#%%\n"
    }
   },
   "outputs": [
    {
     "name": "stdout",
     "output_type": "stream",
     "text": [
      "WARNING:recordlinkage:indexing - performance warning - A full index can result in large number of record pairs.\n"
     ]
    },
    {
     "name": "stderr",
     "output_type": "stream",
     "text": [
      "/Users/xingyuwei/anaconda3/lib/python3.7/site-packages/recordlinkage/index.py:60: FutureWarning: the 'labels' keyword is deprecated, use 'codes' instead\n",
      "  levels=levels, labels=labels, verify_integrity=False)\n"
     ]
    }
   ],
   "source": [
    "df_cleaned = df_cleaned[['department', 'street', 'city', 'zip', 'country']]\n",
    "indexer = recordlinkage.Index()\n",
    "indexer.full()\n",
    "candidate_links = indexer.index(df_cleaned)"
   ]
  },
  {
   "cell_type": "code",
   "execution_count": 52,
   "metadata": {
    "pycharm": {
     "is_executing": false
    }
   },
   "outputs": [
    {
     "name": "stdout",
     "output_type": "stream",
     "text": [
      "174 15051\n"
     ]
    }
   ],
   "source": [
    "print(len(df_cleaned), len(candidate_links))"
   ]
  },
  {
   "cell_type": "markdown",
   "metadata": {},
   "source": [
    "# Compare records"
   ]
  },
  {
   "cell_type": "code",
   "execution_count": 53,
   "metadata": {
    "pycharm": {
     "is_executing": false
    }
   },
   "outputs": [],
   "source": [
    "compare_cl = recordlinkage.Compare()"
   ]
  },
  {
   "cell_type": "code",
   "execution_count": 54,
   "metadata": {
    "pycharm": {
     "is_executing": false
    }
   },
   "outputs": [],
   "source": [
    "for column_name in column_names:\n",
    "    compare_cl.string(column_name, column_name, 'jarowinkler')"
   ]
  },
  {
   "cell_type": "code",
   "execution_count": 55,
   "metadata": {
    "pycharm": {
     "is_executing": false
    }
   },
   "outputs": [
    {
     "data": {
      "text/html": [
       "<div>\n",
       "<style scoped>\n",
       "    .dataframe tbody tr th:only-of-type {\n",
       "        vertical-align: middle;\n",
       "    }\n",
       "\n",
       "    .dataframe tbody tr th {\n",
       "        vertical-align: top;\n",
       "    }\n",
       "\n",
       "    .dataframe thead th {\n",
       "        text-align: right;\n",
       "    }\n",
       "</style>\n",
       "<table border=\"1\" class=\"dataframe\">\n",
       "  <thead>\n",
       "    <tr style=\"text-align: right;\">\n",
       "      <th></th>\n",
       "      <th>department</th>\n",
       "      <th>street</th>\n",
       "      <th>city</th>\n",
       "      <th>zip</th>\n",
       "      <th>country</th>\n",
       "    </tr>\n",
       "  </thead>\n",
       "  <tbody>\n",
       "    <tr>\n",
       "      <th>0</th>\n",
       "      <td>imaging genetics center of usc</td>\n",
       "      <td>4676 admiralty way</td>\n",
       "      <td>marina del rey</td>\n",
       "      <td>90292</td>\n",
       "      <td>usa</td>\n",
       "    </tr>\n",
       "    <tr>\n",
       "      <th>1</th>\n",
       "      <td>department of neurology university of utah</td>\n",
       "      <td>175 n medical dr</td>\n",
       "      <td>salt lake city</td>\n",
       "      <td>84132</td>\n",
       "      <td>united states</td>\n",
       "    </tr>\n",
       "    <tr>\n",
       "      <th>2</th>\n",
       "      <td>imaging genetics center mark and mary stevens ...</td>\n",
       "      <td>4676 admiralty way</td>\n",
       "      <td>marina del rey</td>\n",
       "      <td>90292</td>\n",
       "      <td>usa</td>\n",
       "    </tr>\n",
       "  </tbody>\n",
       "</table>\n",
       "</div>"
      ],
      "text/plain": [
       "                                          department              street  \\\n",
       "0                     imaging genetics center of usc  4676 admiralty way   \n",
       "1         department of neurology university of utah    175 n medical dr   \n",
       "2  imaging genetics center mark and mary stevens ...  4676 admiralty way   \n",
       "\n",
       "             city    zip        country  \n",
       "0  marina del rey  90292            usa  \n",
       "1  salt lake city  84132  united states  \n",
       "2  marina del rey  90292            usa  "
      ]
     },
     "execution_count": 55,
     "metadata": {},
     "output_type": "execute_result"
    }
   ],
   "source": [
    "df_cleaned.iloc[0:3, :]"
   ]
  },
  {
   "cell_type": "code",
   "execution_count": 56,
   "metadata": {
    "pycharm": {
     "is_executing": false
    }
   },
   "outputs": [],
   "source": [
    "pair_scoring = compare_cl.compute(candidate_links, df_cleaned, df_cleaned)"
   ]
  },
  {
   "cell_type": "code",
   "execution_count": 58,
   "metadata": {},
   "outputs": [
    {
     "data": {
      "text/html": [
       "<div>\n",
       "<style scoped>\n",
       "    .dataframe tbody tr th:only-of-type {\n",
       "        vertical-align: middle;\n",
       "    }\n",
       "\n",
       "    .dataframe tbody tr th {\n",
       "        vertical-align: top;\n",
       "    }\n",
       "\n",
       "    .dataframe thead th {\n",
       "        text-align: right;\n",
       "    }\n",
       "</style>\n",
       "<table border=\"1\" class=\"dataframe\">\n",
       "  <thead>\n",
       "    <tr style=\"text-align: right;\">\n",
       "      <th></th>\n",
       "      <th></th>\n",
       "      <th>0</th>\n",
       "      <th>1</th>\n",
       "      <th>2</th>\n",
       "      <th>3</th>\n",
       "      <th>4</th>\n",
       "    </tr>\n",
       "  </thead>\n",
       "  <tbody>\n",
       "    <tr>\n",
       "      <th>1</th>\n",
       "      <th>0</th>\n",
       "      <td>0.616017</td>\n",
       "      <td>0.576389</td>\n",
       "      <td>0.571429</td>\n",
       "      <td>0.466667</td>\n",
       "      <td>0.470085</td>\n",
       "    </tr>\n",
       "    <tr>\n",
       "      <th rowspan=\"2\" valign=\"top\">2</th>\n",
       "      <th>0</th>\n",
       "      <td>0.828920</td>\n",
       "      <td>1.000000</td>\n",
       "      <td>1.000000</td>\n",
       "      <td>1.000000</td>\n",
       "      <td>1.000000</td>\n",
       "    </tr>\n",
       "    <tr>\n",
       "      <th>1</th>\n",
       "      <td>0.560685</td>\n",
       "      <td>0.576389</td>\n",
       "      <td>0.571429</td>\n",
       "      <td>0.466667</td>\n",
       "      <td>0.470085</td>\n",
       "    </tr>\n",
       "    <tr>\n",
       "      <th rowspan=\"3\" valign=\"top\">3</th>\n",
       "      <th>0</th>\n",
       "      <td>0.582291</td>\n",
       "      <td>0.510774</td>\n",
       "      <td>0.470563</td>\n",
       "      <td>0.600000</td>\n",
       "      <td>1.000000</td>\n",
       "    </tr>\n",
       "    <tr>\n",
       "      <th>1</th>\n",
       "      <td>0.853644</td>\n",
       "      <td>0.529040</td>\n",
       "      <td>0.569264</td>\n",
       "      <td>0.600000</td>\n",
       "      <td>0.470085</td>\n",
       "    </tr>\n",
       "    <tr>\n",
       "      <th>2</th>\n",
       "      <td>0.565886</td>\n",
       "      <td>0.510774</td>\n",
       "      <td>0.470563</td>\n",
       "      <td>0.600000</td>\n",
       "      <td>1.000000</td>\n",
       "    </tr>\n",
       "    <tr>\n",
       "      <th rowspan=\"4\" valign=\"top\">4</th>\n",
       "      <th>0</th>\n",
       "      <td>0.664614</td>\n",
       "      <td>0.403704</td>\n",
       "      <td>0.493386</td>\n",
       "      <td>0.466667</td>\n",
       "      <td>1.000000</td>\n",
       "    </tr>\n",
       "    <tr>\n",
       "      <th>1</th>\n",
       "      <td>0.867597</td>\n",
       "      <td>0.480556</td>\n",
       "      <td>0.404762</td>\n",
       "      <td>0.466667</td>\n",
       "      <td>0.470085</td>\n",
       "    </tr>\n",
       "    <tr>\n",
       "      <th>2</th>\n",
       "      <td>0.529284</td>\n",
       "      <td>0.403704</td>\n",
       "      <td>0.493386</td>\n",
       "      <td>0.466667</td>\n",
       "      <td>1.000000</td>\n",
       "    </tr>\n",
       "    <tr>\n",
       "      <th>3</th>\n",
       "      <td>0.888747</td>\n",
       "      <td>0.648485</td>\n",
       "      <td>0.519360</td>\n",
       "      <td>0.000000</td>\n",
       "      <td>1.000000</td>\n",
       "    </tr>\n",
       "    <tr>\n",
       "      <th rowspan=\"5\" valign=\"top\">5</th>\n",
       "      <th>0</th>\n",
       "      <td>0.704040</td>\n",
       "      <td>0.551852</td>\n",
       "      <td>0.511905</td>\n",
       "      <td>0.733333</td>\n",
       "      <td>1.000000</td>\n",
       "    </tr>\n",
       "    <tr>\n",
       "      <th>1</th>\n",
       "      <td>0.624991</td>\n",
       "      <td>0.668810</td>\n",
       "      <td>0.594048</td>\n",
       "      <td>0.600000</td>\n",
       "      <td>0.470085</td>\n",
       "    </tr>\n",
       "    <tr>\n",
       "      <th>2</th>\n",
       "      <td>0.634305</td>\n",
       "      <td>0.551852</td>\n",
       "      <td>0.511905</td>\n",
       "      <td>0.733333</td>\n",
       "      <td>1.000000</td>\n",
       "    </tr>\n",
       "    <tr>\n",
       "      <th>3</th>\n",
       "      <td>0.631777</td>\n",
       "      <td>0.591169</td>\n",
       "      <td>0.621212</td>\n",
       "      <td>0.733333</td>\n",
       "      <td>1.000000</td>\n",
       "    </tr>\n",
       "    <tr>\n",
       "      <th>4</th>\n",
       "      <td>0.629008</td>\n",
       "      <td>0.542222</td>\n",
       "      <td>0.490741</td>\n",
       "      <td>0.466667</td>\n",
       "      <td>1.000000</td>\n",
       "    </tr>\n",
       "    <tr>\n",
       "      <th rowspan=\"6\" valign=\"top\">6</th>\n",
       "      <th>0</th>\n",
       "      <td>0.676285</td>\n",
       "      <td>0.349206</td>\n",
       "      <td>0.000000</td>\n",
       "      <td>0.483333</td>\n",
       "      <td>0.500000</td>\n",
       "    </tr>\n",
       "    <tr>\n",
       "      <th>1</th>\n",
       "      <td>0.752237</td>\n",
       "      <td>0.345238</td>\n",
       "      <td>0.547619</td>\n",
       "      <td>0.483333</td>\n",
       "      <td>0.495726</td>\n",
       "    </tr>\n",
       "    <tr>\n",
       "      <th>2</th>\n",
       "      <td>0.582515</td>\n",
       "      <td>0.349206</td>\n",
       "      <td>0.000000</td>\n",
       "      <td>0.483333</td>\n",
       "      <td>0.500000</td>\n",
       "    </tr>\n",
       "    <tr>\n",
       "      <th>3</th>\n",
       "      <td>0.695696</td>\n",
       "      <td>0.466450</td>\n",
       "      <td>0.560606</td>\n",
       "      <td>0.000000</td>\n",
       "      <td>0.500000</td>\n",
       "    </tr>\n",
       "    <tr>\n",
       "      <th>4</th>\n",
       "      <td>0.718504</td>\n",
       "      <td>0.434127</td>\n",
       "      <td>0.000000</td>\n",
       "      <td>0.483333</td>\n",
       "      <td>0.500000</td>\n",
       "    </tr>\n",
       "    <tr>\n",
       "      <th>5</th>\n",
       "      <td>0.652595</td>\n",
       "      <td>0.500635</td>\n",
       "      <td>0.583333</td>\n",
       "      <td>0.483333</td>\n",
       "      <td>0.500000</td>\n",
       "    </tr>\n",
       "    <tr>\n",
       "      <th rowspan=\"7\" valign=\"top\">7</th>\n",
       "      <th>0</th>\n",
       "      <td>0.613757</td>\n",
       "      <td>0.438596</td>\n",
       "      <td>0.460317</td>\n",
       "      <td>0.533333</td>\n",
       "      <td>0.000000</td>\n",
       "    </tr>\n",
       "    <tr>\n",
       "      <th>1</th>\n",
       "      <td>0.600866</td>\n",
       "      <td>0.515351</td>\n",
       "      <td>0.325397</td>\n",
       "      <td>0.522222</td>\n",
       "      <td>0.459707</td>\n",
       "    </tr>\n",
       "    <tr>\n",
       "      <th>2</th>\n",
       "      <td>0.637288</td>\n",
       "      <td>0.438596</td>\n",
       "      <td>0.460317</td>\n",
       "      <td>0.533333</td>\n",
       "      <td>0.000000</td>\n",
       "    </tr>\n",
       "    <tr>\n",
       "      <th>3</th>\n",
       "      <td>0.611933</td>\n",
       "      <td>0.573023</td>\n",
       "      <td>0.479798</td>\n",
       "      <td>0.533333</td>\n",
       "      <td>0.000000</td>\n",
       "    </tr>\n",
       "    <tr>\n",
       "      <th>4</th>\n",
       "      <td>0.648810</td>\n",
       "      <td>0.597661</td>\n",
       "      <td>0.703704</td>\n",
       "      <td>0.522222</td>\n",
       "      <td>0.000000</td>\n",
       "    </tr>\n",
       "    <tr>\n",
       "      <th>5</th>\n",
       "      <td>0.685963</td>\n",
       "      <td>0.500117</td>\n",
       "      <td>0.430556</td>\n",
       "      <td>0.366667</td>\n",
       "      <td>0.000000</td>\n",
       "    </tr>\n",
       "    <tr>\n",
       "      <th>6</th>\n",
       "      <td>0.606638</td>\n",
       "      <td>0.415414</td>\n",
       "      <td>0.000000</td>\n",
       "      <td>0.000000</td>\n",
       "      <td>0.539683</td>\n",
       "    </tr>\n",
       "    <tr>\n",
       "      <th rowspan=\"2\" valign=\"top\">8</th>\n",
       "      <th>0</th>\n",
       "      <td>0.613757</td>\n",
       "      <td>0.438596</td>\n",
       "      <td>0.460317</td>\n",
       "      <td>0.533333</td>\n",
       "      <td>0.000000</td>\n",
       "    </tr>\n",
       "    <tr>\n",
       "      <th>1</th>\n",
       "      <td>0.600866</td>\n",
       "      <td>0.515351</td>\n",
       "      <td>0.325397</td>\n",
       "      <td>0.522222</td>\n",
       "      <td>0.459707</td>\n",
       "    </tr>\n",
       "    <tr>\n",
       "      <th>...</th>\n",
       "      <th>...</th>\n",
       "      <td>...</td>\n",
       "      <td>...</td>\n",
       "      <td>...</td>\n",
       "      <td>...</td>\n",
       "      <td>...</td>\n",
       "    </tr>\n",
       "    <tr>\n",
       "      <th rowspan=\"30\" valign=\"top\">173</th>\n",
       "      <th>143</th>\n",
       "      <td>0.629893</td>\n",
       "      <td>0.504953</td>\n",
       "      <td>0.479798</td>\n",
       "      <td>0.466667</td>\n",
       "      <td>0.470085</td>\n",
       "    </tr>\n",
       "    <tr>\n",
       "      <th>144</th>\n",
       "      <td>0.632941</td>\n",
       "      <td>0.424242</td>\n",
       "      <td>0.518519</td>\n",
       "      <td>0.588889</td>\n",
       "      <td>0.000000</td>\n",
       "    </tr>\n",
       "    <tr>\n",
       "      <th>145</th>\n",
       "      <td>0.599130</td>\n",
       "      <td>0.515873</td>\n",
       "      <td>0.422222</td>\n",
       "      <td>0.600000</td>\n",
       "      <td>0.492063</td>\n",
       "    </tr>\n",
       "    <tr>\n",
       "      <th>146</th>\n",
       "      <td>0.718996</td>\n",
       "      <td>0.723545</td>\n",
       "      <td>0.539683</td>\n",
       "      <td>0.483333</td>\n",
       "      <td>0.666667</td>\n",
       "    </tr>\n",
       "    <tr>\n",
       "      <th>147</th>\n",
       "      <td>0.688959</td>\n",
       "      <td>0.539683</td>\n",
       "      <td>0.425926</td>\n",
       "      <td>0.000000</td>\n",
       "      <td>0.666667</td>\n",
       "    </tr>\n",
       "    <tr>\n",
       "      <th>148</th>\n",
       "      <td>0.704497</td>\n",
       "      <td>0.577381</td>\n",
       "      <td>0.455556</td>\n",
       "      <td>0.000000</td>\n",
       "      <td>0.464052</td>\n",
       "    </tr>\n",
       "    <tr>\n",
       "      <th>149</th>\n",
       "      <td>0.583511</td>\n",
       "      <td>0.562169</td>\n",
       "      <td>0.479798</td>\n",
       "      <td>0.466667</td>\n",
       "      <td>1.000000</td>\n",
       "    </tr>\n",
       "    <tr>\n",
       "      <th>150</th>\n",
       "      <td>0.682944</td>\n",
       "      <td>0.388889</td>\n",
       "      <td>0.518519</td>\n",
       "      <td>0.455556</td>\n",
       "      <td>0.000000</td>\n",
       "    </tr>\n",
       "    <tr>\n",
       "      <th>151</th>\n",
       "      <td>0.653399</td>\n",
       "      <td>0.506536</td>\n",
       "      <td>0.611111</td>\n",
       "      <td>0.466667</td>\n",
       "      <td>0.511111</td>\n",
       "    </tr>\n",
       "    <tr>\n",
       "      <th>152</th>\n",
       "      <td>0.553640</td>\n",
       "      <td>0.506536</td>\n",
       "      <td>0.611111</td>\n",
       "      <td>0.600000</td>\n",
       "      <td>0.500000</td>\n",
       "    </tr>\n",
       "    <tr>\n",
       "      <th>153</th>\n",
       "      <td>0.628307</td>\n",
       "      <td>0.426608</td>\n",
       "      <td>0.444444</td>\n",
       "      <td>0.466667</td>\n",
       "      <td>0.492063</td>\n",
       "    </tr>\n",
       "    <tr>\n",
       "      <th>154</th>\n",
       "      <td>0.704019</td>\n",
       "      <td>0.509722</td>\n",
       "      <td>0.422222</td>\n",
       "      <td>0.600000</td>\n",
       "      <td>0.492063</td>\n",
       "    </tr>\n",
       "    <tr>\n",
       "      <th>155</th>\n",
       "      <td>0.670635</td>\n",
       "      <td>0.475845</td>\n",
       "      <td>0.422222</td>\n",
       "      <td>0.600000</td>\n",
       "      <td>0.492063</td>\n",
       "    </tr>\n",
       "    <tr>\n",
       "      <th>156</th>\n",
       "      <td>0.619483</td>\n",
       "      <td>0.569795</td>\n",
       "      <td>0.555556</td>\n",
       "      <td>0.466667</td>\n",
       "      <td>0.492063</td>\n",
       "    </tr>\n",
       "    <tr>\n",
       "      <th>157</th>\n",
       "      <td>0.717521</td>\n",
       "      <td>0.351852</td>\n",
       "      <td>0.555556</td>\n",
       "      <td>0.441667</td>\n",
       "      <td>0.611111</td>\n",
       "    </tr>\n",
       "    <tr>\n",
       "      <th>158</th>\n",
       "      <td>0.628307</td>\n",
       "      <td>0.551587</td>\n",
       "      <td>0.412698</td>\n",
       "      <td>0.466667</td>\n",
       "      <td>0.470085</td>\n",
       "    </tr>\n",
       "    <tr>\n",
       "      <th>159</th>\n",
       "      <td>0.724360</td>\n",
       "      <td>0.488889</td>\n",
       "      <td>0.500000</td>\n",
       "      <td>0.000000</td>\n",
       "      <td>0.666667</td>\n",
       "    </tr>\n",
       "    <tr>\n",
       "      <th>160</th>\n",
       "      <td>0.693651</td>\n",
       "      <td>0.522222</td>\n",
       "      <td>0.361111</td>\n",
       "      <td>0.000000</td>\n",
       "      <td>0.000000</td>\n",
       "    </tr>\n",
       "    <tr>\n",
       "      <th>161</th>\n",
       "      <td>0.680070</td>\n",
       "      <td>0.472222</td>\n",
       "      <td>0.555556</td>\n",
       "      <td>0.441667</td>\n",
       "      <td>0.611111</td>\n",
       "    </tr>\n",
       "    <tr>\n",
       "      <th>162</th>\n",
       "      <td>0.821792</td>\n",
       "      <td>0.533989</td>\n",
       "      <td>0.338384</td>\n",
       "      <td>0.466667</td>\n",
       "      <td>1.000000</td>\n",
       "    </tr>\n",
       "    <tr>\n",
       "      <th>163</th>\n",
       "      <td>0.654009</td>\n",
       "      <td>0.475845</td>\n",
       "      <td>0.422222</td>\n",
       "      <td>0.600000</td>\n",
       "      <td>0.492063</td>\n",
       "    </tr>\n",
       "    <tr>\n",
       "      <th>164</th>\n",
       "      <td>0.604317</td>\n",
       "      <td>0.273504</td>\n",
       "      <td>0.444444</td>\n",
       "      <td>0.466667</td>\n",
       "      <td>0.492063</td>\n",
       "    </tr>\n",
       "    <tr>\n",
       "      <th>165</th>\n",
       "      <td>0.667959</td>\n",
       "      <td>0.467284</td>\n",
       "      <td>0.518519</td>\n",
       "      <td>0.466667</td>\n",
       "      <td>1.000000</td>\n",
       "    </tr>\n",
       "    <tr>\n",
       "      <th>166</th>\n",
       "      <td>0.631893</td>\n",
       "      <td>0.469658</td>\n",
       "      <td>0.444444</td>\n",
       "      <td>0.466667</td>\n",
       "      <td>0.492063</td>\n",
       "    </tr>\n",
       "    <tr>\n",
       "      <th>167</th>\n",
       "      <td>0.695926</td>\n",
       "      <td>0.493275</td>\n",
       "      <td>0.555556</td>\n",
       "      <td>0.577778</td>\n",
       "      <td>0.722222</td>\n",
       "    </tr>\n",
       "    <tr>\n",
       "      <th>168</th>\n",
       "      <td>0.718713</td>\n",
       "      <td>0.368056</td>\n",
       "      <td>0.555556</td>\n",
       "      <td>0.411111</td>\n",
       "      <td>0.000000</td>\n",
       "    </tr>\n",
       "    <tr>\n",
       "      <th>169</th>\n",
       "      <td>0.658887</td>\n",
       "      <td>0.426608</td>\n",
       "      <td>0.527778</td>\n",
       "      <td>0.000000</td>\n",
       "      <td>0.000000</td>\n",
       "    </tr>\n",
       "    <tr>\n",
       "      <th>170</th>\n",
       "      <td>0.658009</td>\n",
       "      <td>0.439542</td>\n",
       "      <td>0.527778</td>\n",
       "      <td>0.000000</td>\n",
       "      <td>0.492063</td>\n",
       "    </tr>\n",
       "    <tr>\n",
       "      <th>171</th>\n",
       "      <td>0.602024</td>\n",
       "      <td>0.356209</td>\n",
       "      <td>0.518519</td>\n",
       "      <td>0.447619</td>\n",
       "      <td>0.000000</td>\n",
       "    </tr>\n",
       "    <tr>\n",
       "      <th>172</th>\n",
       "      <td>0.654009</td>\n",
       "      <td>0.475845</td>\n",
       "      <td>0.422222</td>\n",
       "      <td>0.600000</td>\n",
       "      <td>0.492063</td>\n",
       "    </tr>\n",
       "  </tbody>\n",
       "</table>\n",
       "<p>15051 rows × 5 columns</p>\n",
       "</div>"
      ],
      "text/plain": [
       "                0         1         2         3         4\n",
       "1   0    0.616017  0.576389  0.571429  0.466667  0.470085\n",
       "2   0    0.828920  1.000000  1.000000  1.000000  1.000000\n",
       "    1    0.560685  0.576389  0.571429  0.466667  0.470085\n",
       "3   0    0.582291  0.510774  0.470563  0.600000  1.000000\n",
       "    1    0.853644  0.529040  0.569264  0.600000  0.470085\n",
       "    2    0.565886  0.510774  0.470563  0.600000  1.000000\n",
       "4   0    0.664614  0.403704  0.493386  0.466667  1.000000\n",
       "    1    0.867597  0.480556  0.404762  0.466667  0.470085\n",
       "    2    0.529284  0.403704  0.493386  0.466667  1.000000\n",
       "    3    0.888747  0.648485  0.519360  0.000000  1.000000\n",
       "5   0    0.704040  0.551852  0.511905  0.733333  1.000000\n",
       "    1    0.624991  0.668810  0.594048  0.600000  0.470085\n",
       "    2    0.634305  0.551852  0.511905  0.733333  1.000000\n",
       "    3    0.631777  0.591169  0.621212  0.733333  1.000000\n",
       "    4    0.629008  0.542222  0.490741  0.466667  1.000000\n",
       "6   0    0.676285  0.349206  0.000000  0.483333  0.500000\n",
       "    1    0.752237  0.345238  0.547619  0.483333  0.495726\n",
       "    2    0.582515  0.349206  0.000000  0.483333  0.500000\n",
       "    3    0.695696  0.466450  0.560606  0.000000  0.500000\n",
       "    4    0.718504  0.434127  0.000000  0.483333  0.500000\n",
       "    5    0.652595  0.500635  0.583333  0.483333  0.500000\n",
       "7   0    0.613757  0.438596  0.460317  0.533333  0.000000\n",
       "    1    0.600866  0.515351  0.325397  0.522222  0.459707\n",
       "    2    0.637288  0.438596  0.460317  0.533333  0.000000\n",
       "    3    0.611933  0.573023  0.479798  0.533333  0.000000\n",
       "    4    0.648810  0.597661  0.703704  0.522222  0.000000\n",
       "    5    0.685963  0.500117  0.430556  0.366667  0.000000\n",
       "    6    0.606638  0.415414  0.000000  0.000000  0.539683\n",
       "8   0    0.613757  0.438596  0.460317  0.533333  0.000000\n",
       "    1    0.600866  0.515351  0.325397  0.522222  0.459707\n",
       "...           ...       ...       ...       ...       ...\n",
       "173 143  0.629893  0.504953  0.479798  0.466667  0.470085\n",
       "    144  0.632941  0.424242  0.518519  0.588889  0.000000\n",
       "    145  0.599130  0.515873  0.422222  0.600000  0.492063\n",
       "    146  0.718996  0.723545  0.539683  0.483333  0.666667\n",
       "    147  0.688959  0.539683  0.425926  0.000000  0.666667\n",
       "    148  0.704497  0.577381  0.455556  0.000000  0.464052\n",
       "    149  0.583511  0.562169  0.479798  0.466667  1.000000\n",
       "    150  0.682944  0.388889  0.518519  0.455556  0.000000\n",
       "    151  0.653399  0.506536  0.611111  0.466667  0.511111\n",
       "    152  0.553640  0.506536  0.611111  0.600000  0.500000\n",
       "    153  0.628307  0.426608  0.444444  0.466667  0.492063\n",
       "    154  0.704019  0.509722  0.422222  0.600000  0.492063\n",
       "    155  0.670635  0.475845  0.422222  0.600000  0.492063\n",
       "    156  0.619483  0.569795  0.555556  0.466667  0.492063\n",
       "    157  0.717521  0.351852  0.555556  0.441667  0.611111\n",
       "    158  0.628307  0.551587  0.412698  0.466667  0.470085\n",
       "    159  0.724360  0.488889  0.500000  0.000000  0.666667\n",
       "    160  0.693651  0.522222  0.361111  0.000000  0.000000\n",
       "    161  0.680070  0.472222  0.555556  0.441667  0.611111\n",
       "    162  0.821792  0.533989  0.338384  0.466667  1.000000\n",
       "    163  0.654009  0.475845  0.422222  0.600000  0.492063\n",
       "    164  0.604317  0.273504  0.444444  0.466667  0.492063\n",
       "    165  0.667959  0.467284  0.518519  0.466667  1.000000\n",
       "    166  0.631893  0.469658  0.444444  0.466667  0.492063\n",
       "    167  0.695926  0.493275  0.555556  0.577778  0.722222\n",
       "    168  0.718713  0.368056  0.555556  0.411111  0.000000\n",
       "    169  0.658887  0.426608  0.527778  0.000000  0.000000\n",
       "    170  0.658009  0.439542  0.527778  0.000000  0.492063\n",
       "    171  0.602024  0.356209  0.518519  0.447619  0.000000\n",
       "    172  0.654009  0.475845  0.422222  0.600000  0.492063\n",
       "\n",
       "[15051 rows x 5 columns]"
      ]
     },
     "execution_count": 58,
     "metadata": {},
     "output_type": "execute_result"
    }
   ],
   "source": [
    "pair_scoring"
   ]
  },
  {
   "cell_type": "markdown",
   "metadata": {
    "pycharm": {
     "name": "#%% md\n"
    }
   },
   "source": [
    "### using ECM Classifier"
   ]
  },
  {
   "cell_type": "code",
   "execution_count": 22,
   "metadata": {
    "collapsed": false,
    "jupyter": {
     "outputs_hidden": false
    },
    "pycharm": {
     "is_executing": false,
     "name": "#%% \n"
    }
   },
   "outputs": [],
   "source": [
    "ecm = recordlinkage.ECMClassifier(binarize=0.8)\n",
    "result_ecm = ecm.fit(pair_scoring)"
   ]
  },
  {
   "cell_type": "markdown",
   "metadata": {
    "pycharm": {
     "name": "#%% md\n"
    }
   },
   "source": [
    "### using Sklearn classifier"
   ]
  },
  {
   "cell_type": "code",
   "execution_count": 55,
   "metadata": {
    "collapsed": false,
    "jupyter": {
     "outputs_hidden": false
    },
    "pycharm": {
     "is_executing": false,
     "name": "#%% \n"
    }
   },
   "outputs": [],
   "source": [
    "import sklearn"
   ]
  },
  {
   "cell_type": "code",
   "execution_count": 56,
   "metadata": {
    "collapsed": false,
    "jupyter": {
     "outputs_hidden": false
    },
    "pycharm": {
     "is_executing": false,
     "name": "#%%\n"
    }
   },
   "outputs": [],
   "source": [
    "k_means_classifier = sklearn.cluster.KMeans(n_clusters=2)\n"
   ]
  },
  {
   "cell_type": "code",
   "execution_count": 57,
   "metadata": {
    "collapsed": false,
    "jupyter": {
     "outputs_hidden": false
    },
    "pycharm": {
     "is_executing": false,
     "name": "#%%\n"
    }
   },
   "outputs": [],
   "source": [
    "result_k_means = k_means_classifier.fit_predict(pair_scoring)"
   ]
  },
  {
   "cell_type": "code",
   "execution_count": 58,
   "metadata": {
    "collapsed": false,
    "jupyter": {
     "outputs_hidden": false
    },
    "pycharm": {
     "is_executing": false,
     "name": "#%% \n"
    }
   },
   "outputs": [
    {
     "name": "stdout",
     "output_type": "stream",
     "text": [
      "4726\n",
      "15050\n"
     ]
    }
   ],
   "source": [
    "print(sum(result_k_means))\n",
    "print(len(result_k_means) - 1)"
   ]
  },
  {
   "cell_type": "code",
   "execution_count": 36,
   "metadata": {
    "collapsed": false,
    "jupyter": {
     "outputs_hidden": false
    },
    "pycharm": {
     "is_executing": false,
     "name": "#%%\n"
    }
   },
   "outputs": [],
   "source": [
    "pair_scoring_with_predictions = pair_scoring.copy()"
   ]
  },
  {
   "cell_type": "code",
   "execution_count": 37,
   "metadata": {
    "collapsed": false,
    "jupyter": {
     "outputs_hidden": false
    },
    "pycharm": {
     "is_executing": false,
     "name": "#%%\n"
    }
   },
   "outputs": [],
   "source": [
    "pair_scoring_with_predictions['prediction'] = result_k_means\n",
    "\n"
   ]
  },
  {
   "cell_type": "code",
   "execution_count": 38,
   "metadata": {
    "collapsed": false,
    "jupyter": {
     "outputs_hidden": false
    },
    "pycharm": {
     "is_executing": false,
     "name": "#%%\n"
    }
   },
   "outputs": [],
   "source": [
    "cluster_0 = pair_scoring_with_predictions[pair_scoring_with_predictions['prediction'] < 0.5]\n",
    "cluster_1 = pair_scoring_with_predictions[pair_scoring_with_predictions['prediction'] > 0.5]"
   ]
  },
  {
   "cell_type": "code",
   "execution_count": null,
   "metadata": {
    "collapsed": false,
    "jupyter": {
     "outputs_hidden": false
    },
    "pycharm": {
     "name": "#%%"
    }
   },
   "outputs": [],
   "source": []
  }
 ],
 "metadata": {
  "kernelspec": {
   "display_name": "Python 3",
   "language": "python",
   "name": "python3"
  },
  "language_info": {
   "codemirror_mode": {
    "name": "ipython",
    "version": 3
   },
   "file_extension": ".py",
   "mimetype": "text/x-python",
   "name": "python",
   "nbconvert_exporter": "python",
   "pygments_lexer": "ipython3",
   "version": "3.7.3"
  },
  "pycharm": {
   "stem_cell": {
    "cell_type": "raw",
    "metadata": {
     "collapsed": false
    },
    "source": []
   }
  }
 },
 "nbformat": 4,
 "nbformat_minor": 4
}
