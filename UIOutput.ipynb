{
 "cells": [
  {
   "cell_type": "code",
   "execution_count": 1,
   "metadata": {},
   "outputs": [],
   "source": [
    "%load_ext autoreload\n",
    "%autoreload 2"
   ]
  },
  {
   "cell_type": "code",
   "execution_count": 2,
   "metadata": {},
   "outputs": [
    {
     "data": {
      "application/vnd.jupyter.widget-view+json": {
       "model_id": "3e37f51860fb4686bcec188dc5845428",
       "version_major": 2,
       "version_minor": 0
      },
      "text/plain": [
       "Output()"
      ]
     },
     "metadata": {},
     "output_type": "display_data"
    }
   ],
   "source": [
    "from ipywidgets import interact, interactive, fixed, interact_manual\n",
    "import ipywidgets as widgets\n",
    "import pandas as pd\n",
    "\n",
    "out = widgets.Output()\n",
    "out"
   ]
  },
  {
   "cell_type": "markdown",
   "metadata": {},
   "source": [
    "# Implementation"
   ]
  },
  {
   "cell_type": "code",
   "execution_count": 21,
   "metadata": {},
   "outputs": [
    {
     "data": {
      "text/plain": [
       "'demo.csv'"
      ]
     },
     "execution_count": 21,
     "metadata": {},
     "output_type": "execute_result"
    }
   ],
   "source": [
    "cleaned_text_output_filename.value"
   ]
  },
  {
   "cell_type": "code",
   "execution_count": 3,
   "metadata": {},
   "outputs": [],
   "source": [
    "tab = widgets.Tab()\n",
    "\n",
    "dirty_file_upload = widgets.FileUpload(\n",
    "    accept=\".csv\",\n",
    "    multiple=False\n",
    ")\n",
    "\n",
    "cleaned_text_output_label = widgets.Label(\n",
    "    \"Output File Name:\", layout=widgets.Layout(width='150px')\n",
    ")\n",
    "\n",
    "cleaned_text_output_filename = widgets.Text(\n",
    "    value=\"cleaned.csv\",\n",
    "    layout=widgets.Layout(width='150px')\n",
    ")\n",
    "clean_button = widgets.Button(\n",
    "    description=\"Normalize data\",\n",
    "    icon='play',\n",
    "    tooltip='Normalize data'\n",
    ")\n",
    "\n",
    "clean_tab = widgets.VBox([\n",
    "    widgets.HBox([dirty_file_upload, clean_button], layout=widgets.Layout(margin=\"10px\")),\n",
    "    widgets.HBox([cleaned_text_output_label, cleaned_text_output_filename])])\n",
    "\n",
    "clean_file_upload = widgets.FileUpload(\n",
    "    accept=\".csv\",\n",
    "    multiple=False\n",
    ")\n",
    "start_button = widgets.Button(\n",
    "    description='Generate docx',\n",
    "    icon=\"play\",\n",
    "    tooltip='Generate docx',\n",
    ")\n"
   ]
  },
  {
   "cell_type": "code",
   "execution_count": 4,
   "metadata": {},
   "outputs": [],
   "source": [
    "def label_and_input(label, label_layout=None, text_default_value=None, input_layout=None):\n",
    "\n",
    "    if label_layout is None:\n",
    "        label_layout = widgets.Layout(min_width='150px')\n",
    "    else:\n",
    "        label_layout.min_width = '150px'\n",
    "    if text_default_value is None:\n",
    "        text_default_value = \"\"\n",
    "    if input_layout is None:\n",
    "        input_layout = widgets.Layout()\n",
    "\n",
    "    return widgets.HBox([\n",
    "        widgets.Label(label, layout=label_layout),\n",
    "        widgets.Text(value=text_default_value)\n",
    "    ])"
   ]
  },
  {
   "cell_type": "code",
   "execution_count": 5,
   "metadata": {},
   "outputs": [],
   "source": [
    "initial_name_tags = widgets.VBox([\n",
    "    label_and_input(\"First Name\", text_default_value='First Name'),\n",
    "    label_and_input(\"Middle Initials\", text_default_value='Middle Initial(s)'),\n",
    "    label_and_input(\"Last Name\", text_default_value=\"Last Name\")\n",
    "])"
   ]
  },
  {
   "cell_type": "code",
   "execution_count": 6,
   "metadata": {},
   "outputs": [],
   "source": [
    "initial_examples = widgets.VBox([\n",
    "label_and_input(\"Initials for \\\"Xiang-Zhen\\\": \", text_default_value=\"X-Z\"),\n",
    "label_and_input(\"Initials for \\\"Jun Soo\\\": \", text_default_value=\"J-S\"),\n",
    "label_and_input(\"Initials for \\\"Baskin-Sommers\\\": \", text_default_value=\"B-S\"),\n",
    "label_and_input(\"Initials for \\\"van Rooij\\\": \", text_default_value=\"vR\")\n",
    "])"
   ]
  },
  {
   "cell_type": "code",
   "execution_count": 7,
   "metadata": {},
   "outputs": [],
   "source": [
    "def label_and_vertical_input(label, label_layout=None, text_default_value=None, input_layout=None):\n",
    "\n",
    "    if label_layout is None:\n",
    "        label_layout = widgets.Layout(min_width='150px')\n",
    "    else:\n",
    "        label_layout.min_width = '150px'\n",
    "    if text_default_value is None:\n",
    "        text_default_value = \"\"\n",
    "    if input_layout is None:\n",
    "        input_layout = widgets.Layout()\n",
    "\n",
    "    return widgets.VBox([\n",
    "        widgets.Label(label, layout=label_layout),\n",
    "        widgets.Text(value=text_default_value, input_layout=input_layout)\n",
    "    ])"
   ]
  },
  {
   "cell_type": "code",
   "execution_count": 8,
   "metadata": {},
   "outputs": [],
   "source": [
    "def label_and_textarea(label, label_layout=None, text_default_value=None, input_layout=None):\n",
    "\n",
    "    if label_layout is None:\n",
    "        label_layout = widgets.Layout(min_width='150px')\n",
    "    else:\n",
    "        label_layout.min_width = '150px'\n",
    "    if text_default_value is None:\n",
    "        text_default_value = \"\"\n",
    "    if input_layout is None:\n",
    "        input_layout = widgets.Layout()\n",
    "\n",
    "    return widgets.VBox([\n",
    "        widgets.Label(label, layout=label_layout),\n",
    "        widgets.Textarea(value=text_default_value, input_layout=input_layout)\n",
    "    ])"
   ]
  },
  {
   "cell_type": "code",
   "execution_count": 9,
   "metadata": {},
   "outputs": [],
   "source": [
    "generate_column_names = widgets.VBox([\n",
    "    label_and_input(\"Full Name: \", text_default_value=\"Compound Name + highest degree\"),\n",
    "    label_and_input(\"Role(s): \", text_default_value=\"Role(s)\"),\n",
    "    label_and_vertical_input(\"Affiliations (as a Python List):\", \n",
    "                      text_default_value=\"['Affiliation 1 Department, Institution', 'Affiliation 2 Department, Institution','Affiliation 3 Department, Institution']\",\n",
    "                       input_layout=widgets.Layout(width='600px')),\n",
    "])\n",
    "                       "
   ]
  },
  {
   "cell_type": "code",
   "execution_count": 10,
   "metadata": {},
   "outputs": [],
   "source": [
    "generate_contribution_priority_order = widgets.VBox([\n",
    "    label_and_textarea(\"Roles priority: \", input_layout=widgets.Layout(height=\"200%\"))\n",
    "])"
   ]
  },
  {
   "cell_type": "code",
   "execution_count": 11,
   "metadata": {},
   "outputs": [],
   "source": [
    "accordion = widgets.Accordion([initial_name_tags, initial_examples, generate_column_names, generate_contribution_priority_order])\n",
    "accordion.set_title(0, \"Column names for reading authors' name\")\n",
    "accordion.set_title(1, \"Format of initials from giving examples\")\n",
    "accordion.set_title(2, \"Column names for generating authorship documentation\")\n",
    "accordion.set_title(3, \"Roles priority\")\n",
    "accordion.selected_index = None"
   ]
  },
  {
   "cell_type": "code",
   "execution_count": 12,
   "metadata": {},
   "outputs": [],
   "source": [
    "def start_generation(b):\n",
    "    \n",
    "    import io\n",
    "    from generate_docx import InitialsGenerator, DocGenerator\n",
    "    \n",
    "    mydict = clean_file_upload.value\n",
    "    bytes_val = mydict[next(iter(mydict.keys()))]['content']\n",
    "\n",
    "    f = io.BytesIO(bytes_val)\n",
    "    df = pd.read_csv(f)\n",
    "    \n",
    "    initials_generator = InitialsGenerator()\n",
    "    initials =  initials_generator.transform(df)\n",
    "    \n",
    "    doc_generator = DocGenerator()\n",
    "    doc_generator.affiliation_tags = ['Affiliation 1 Department & Address']\n",
    "    doc_generator.output_doc_filename = \"test_demo.docx\"\n",
    "    doc_generator.role_tag = generate_column_names.children[1].children[0].value\n",
    "    doc_generator.generate(df, initials['Initial'])"
   ]
  },
  {
   "cell_type": "code",
   "execution_count": 13,
   "metadata": {},
   "outputs": [],
   "source": [
    "start_button.on_click(start_generation)"
   ]
  },
  {
   "cell_type": "code",
   "execution_count": 14,
   "metadata": {},
   "outputs": [],
   "source": [
    "generate_configuration = widgets.Textarea(\n",
    "    description=\"Configuration JSON\"\n",
    ")\n",
    "generate_tab = widgets.VBox([\n",
    "    widgets.HBox([clean_file_upload, start_button], layout=widgets.Layout(margin=\"10px\")),\n",
    "    accordion\n",
    "])"
   ]
  },
  {
   "cell_type": "code",
   "execution_count": 15,
   "metadata": {},
   "outputs": [],
   "source": [
    "tab.children = [clean_tab, generate_tab]\n",
    "tab.set_title(0, \"Data Cleanning\")\n",
    "tab.set_title(1, \"Generate Docx\")\n"
   ]
  },
  {
   "cell_type": "code",
   "execution_count": 16,
   "metadata": {},
   "outputs": [],
   "source": [
    "title = widgets.HTML(\"<h1>Authorship Statement Auto Generator</h1>\")"
   ]
  },
  {
   "cell_type": "code",
   "execution_count": 17,
   "metadata": {},
   "outputs": [],
   "source": [
    "tab.layout=widgets.Layout(width=\"80%\", height=\"450px\", min_width=\"800px\")"
   ]
  },
  {
   "cell_type": "code",
   "execution_count": 18,
   "metadata": {},
   "outputs": [],
   "source": [
    "with out:\n",
    "    display(\n",
    "        widgets.VBox([\n",
    "            title,\n",
    "            tab\n",
    "        ], layout=widgets.Layout(align_items=\"center\"))\n",
    "    )"
   ]
  },
  {
   "cell_type": "code",
   "execution_count": null,
   "metadata": {},
   "outputs": [],
   "source": []
  }
 ],
 "metadata": {
  "kernelspec": {
   "display_name": "Python 3",
   "language": "python",
   "name": "python3"
  },
  "language_info": {
   "codemirror_mode": {
    "name": "ipython",
    "version": 3
   },
   "file_extension": ".py",
   "mimetype": "text/x-python",
   "name": "python",
   "nbconvert_exporter": "python",
   "pygments_lexer": "ipython3",
   "version": "3.7.3"
  }
 },
 "nbformat": 4,
 "nbformat_minor": 4
}
